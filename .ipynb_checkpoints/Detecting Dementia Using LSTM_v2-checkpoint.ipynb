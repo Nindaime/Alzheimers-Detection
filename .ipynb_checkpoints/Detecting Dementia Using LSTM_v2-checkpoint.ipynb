{
 "cells": [
  {
   "cell_type": "code",
   "execution_count": 1,
   "id": "55355577",
   "metadata": {},
   "outputs": [],
   "source": [
    "import os\n",
    "\n",
    "# Disable GPU\n",
    "os.environ['CUDA_VISIBLE_DEVICES'] = '-1'\n",
    "\n",
    "import tensorflow as tf\n",
    "\n",
    "# Disable GPU\n",
    "tf.config.experimental.list_physical_devices('GPU')\n",
    "tf.config.experimental.set_visible_devices([], 'GPU')\n",
    "\n",
    "# Disable GPU\n",
    "tf.config.set_visible_devices([], 'GPU')"
   ]
  },
  {
   "cell_type": "markdown",
   "id": "f1f9c15e",
   "metadata": {},
   "source": [
    "## Import Relevant Libraries for Training"
   ]
  },
  {
   "cell_type": "code",
   "execution_count": 2,
   "id": "0d28e42a",
   "metadata": {},
   "outputs": [],
   "source": [
    "import os\n",
    "import pandas as pd\n",
    "import numpy as np\n",
    "import tensorflow as tf\n",
    "from tensorflow import keras\n",
    "from tensorflow.keras.preprocessing.image import load_img, img_to_array\n",
    "from tensorflow.keras.models import Sequential, Model\n",
    "from tensorflow.keras.layers import Input, Conv2D, MaxPooling2D, Flatten, LSTM, Dense, Concatenate, Reshape\n",
    "from sklearn.model_selection import train_test_split\n",
    "from tensorflow.keras.optimizers import Adam, Nadam\n",
    "from sklearn.preprocessing import LabelEncoder\n",
    "from tensorflow.keras.utils import to_categorical\n",
    "from sklearn.ensemble import ExtraTreesClassifier\n",
    "import matplotlib.pyplot as plt\n",
    "import cv2\n",
    "import mplcursors\n",
    "from tqdm import tqdm"
   ]
  },
  {
   "cell_type": "markdown",
   "id": "566bebae",
   "metadata": {},
   "source": [
    "### Load Dataset"
   ]
  },
  {
   "cell_type": "code",
   "execution_count": 3,
   "id": "e2506b6a",
   "metadata": {},
   "outputs": [
    {
     "name": "stdout",
     "output_type": "stream",
     "text": [
      "Index(['Subject ID', 'MRI ID', 'Group', 'Visit', 'MR Delay', 'M/F', 'Hand',\n",
      "       'Age', 'EDUC', 'SES', 'MMSE', 'CDR', 'eTIV', 'nWBV', 'ASF'],\n",
      "      dtype='object')\n"
     ]
    },
    {
     "name": "stderr",
     "output_type": "stream",
     "text": [
      "372it [00:01, 217.49it/s]\n"
     ]
    }
   ],
   "source": [
    "# Load CSV data\n",
    "csv_path = r'D:\\DATASET\\Dimentia\\dementia_dataset.csv'\n",
    "data = pd.read_csv(csv_path)\n",
    "data = data.fillna(0)\n",
    "\n",
    "print(data.columns)\n",
    "for column in data.drop(columns=['Group', 'Subject ID', 'MRI ID']).columns:\n",
    "        data[column] = data[column].astype('category').cat.codes"
   ]
  },
  {
   "cell_type": "code",
   "execution_count": 4,
   "id": "db80ab02",
   "metadata": {},
   "outputs": [
    {
     "name": "stdout",
     "output_type": "stream",
     "text": [
      "Number of Features before feature selection (372, 11)\n",
      "ExtraTreesClassifier()\n"
     ]
    }
   ],
   "source": [
    "def generate_data(df, extra_trees_classifier):\n",
    "    X = df[['Age', 'EDUC', 'Visit', 'MR Delay', 'Hand', 'SES', 'MMSE', 'CDR', 'eTIV', 'nWBV', 'ASF']]\n",
    "    print(f'Number of Features before feature selection {X.shape}')\n",
    "    y = df['Group'] # set the y to the dependent output variable\n",
    "    model = extra_trees_classifier()\n",
    "    model.fit(X,y)\n",
    "    print(model)\n",
    "    return X, y, model\n",
    "    \n",
    "X, y, model = generate_data(data, ExtraTreesClassifier)"
   ]
  },
  {
   "cell_type": "code",
   "execution_count": 5,
   "id": "defc2108",
   "metadata": {},
   "outputs": [],
   "source": [
    "def encode_output(y):\n",
    "    onehot = pd.get_dummies(y)\n",
    "    output = onehot.to_numpy()\n",
    "    \n",
    "    return output"
   ]
  },
  {
   "cell_type": "code",
   "execution_count": 6,
   "id": "0b7a601d",
   "metadata": {},
   "outputs": [
    {
     "name": "stdout",
     "output_type": "stream",
     "text": [
      "(372, 11)\n",
      "   Age  EDUC  Visit  MR Delay  Hand  SES  MMSE  CDR  eTIV  nWBV  ASF\n",
      "0   28     5      1        15     0    2    18    0   284    20    0\n",
      "1   15     3      0         0     0    0    11    1   231    73   51\n",
      "2   16     3      1        32     0    0    16    1   254    51   31\n",
      "3   20     3      2       185     0    0    10    1   238    40   45\n",
      "4   28     9      0         0     0    3    16    0    16    48  247\n"
     ]
    }
   ],
   "source": [
    "print(X.shape)\n",
    "print(X[:5])"
   ]
  },
  {
   "cell_type": "code",
   "execution_count": 7,
   "id": "7ad125d6",
   "metadata": {},
   "outputs": [
    {
     "name": "stdout",
     "output_type": "stream",
     "text": [
      "(372,)\n",
      "0    Nondemented\n",
      "1       Demented\n",
      "2       Demented\n",
      "3       Demented\n",
      "4    Nondemented\n",
      "Name: Group, dtype: object\n"
     ]
    }
   ],
   "source": [
    "print(y.shape)\n",
    "print(y[:5])"
   ]
  },
  {
   "cell_type": "code",
   "execution_count": 8,
   "id": "ee6844da",
   "metadata": {},
   "outputs": [
    {
     "name": "stdout",
     "output_type": "stream",
     "text": [
      "(372, 1)\n",
      "imbalance of this predicted variable is: 129.0% \n",
      "\n",
      "Imbalance Variables\n",
      "Nondemented    189\n",
      "Demented       146\n",
      "Converted       37\n",
      "Name: Group, dtype: int64\n"
     ]
    }
   ],
   "source": [
    "def output_stats(y):\n",
    "    y = pd.DataFrame(y)\n",
    "    print (y.shape)\n",
    "    \n",
    "    y.columns = y.columns.str.strip() #to remove white spaces from column headers\n",
    "\n",
    "    imbalance = y.Group.value_counts() #check dataset for imbalances\n",
    "    \n",
    "    #imbalanace is the distribution of the training outcome. If the dataset is bias with more outcomes, the model will be better at predicting that outcome\n",
    "    if(imbalance.shape[0] > 1): # condition prevents code from throwing error if the dataset has only on type of output (e.g., 0 for days without intrusion)\n",
    "        print(f'imbalance of this predicted variable is: {round(imbalance[0]/imbalance[1], 2) * 100}% \\n\\nImbalance Variables\\n{imbalance}')\n",
    "    return y\n",
    "\n",
    "y_stats = output_stats(y)"
   ]
  },
  {
   "cell_type": "code",
   "execution_count": 9,
   "id": "68a4b99c",
   "metadata": {},
   "outputs": [
    {
     "name": "stdout",
     "output_type": "stream",
     "text": [
      "(372, 3)\n",
      "[[0 0 1]\n",
      " [0 1 0]\n",
      " [0 1 0]\n",
      " [0 1 0]\n",
      " [0 0 1]]\n"
     ]
    }
   ],
   "source": [
    "y_encoded = encode_output(y)\n",
    "print(y_encoded.shape)\n",
    "print(y_encoded[:5])"
   ]
  },
  {
   "cell_type": "markdown",
   "id": "78e1cb17",
   "metadata": {},
   "source": [
    "### Preprocess Data"
   ]
  },
  {
   "cell_type": "code",
   "execution_count": 10,
   "id": "6e8f5aaf",
   "metadata": {
    "scrolled": true
   },
   "outputs": [],
   "source": [
    "def extra_tree_classifier(threshold, model, X, df):\n",
    "\n",
    "    feat_importances = pd.Series(model.feature_importances_, index = X.columns)\n",
    "    print(feat_importances)\n",
    "    correlations = feat_importances.nlargest(df.shape[1])\n",
    "\n",
    "    df = pd.DataFrame(correlations).reset_index()\n",
    "    df.columns = ['features', 'data']\n",
    "    \n",
    "    df_output = df[df['data'] >= threshold]\n",
    "    \n",
    "    #This is to ensure the feature selector returns features when feature correlation between X and y is 0 \n",
    "    while df_output.shape[0] < 3: # features must be a minimum of 3\n",
    "        \n",
    "        print(f'Current Feature size before adjustment: {df_output.shape[0]}')\n",
    "        threshold = round(threshold - 0.01, 2) # reduced threshold by 1% to increase number of threshold\n",
    "        print(f'New Threshold: {threshold}')\n",
    "        df_output = df[df['data'] >= threshold]\n",
    "        print(f'Current Feature size after adjustment: {df_output.shape[0]}')\n",
    "        if(threshold == 0):\n",
    "            print(f'Final Correlation: {threshold * 100}%')\n",
    "            break\n",
    "                \n",
    "    tooltip = df.data\n",
    "    tt = [str(round((ttip * 100), 2)) + '% correlation' for ttip in tooltip.values]\n",
    "    \n",
    "    fig, ax = plt.subplots(1, figsize=(9.5,5.5))\n",
    "    \n",
    "    ax.bar(df['features'], df['data'], align=\"center\")\n",
    "    cursor = mplcursors.cursor(hover=mplcursors.HoverMode.Transient)\n",
    "    @cursor.connect(\"add\")\n",
    "    def on_add(sel):\n",
    "        sel.annotation.set(text=tt[sel.target.index])\n",
    "        \n",
    "    plt.title('Feature Correlation with Output - Label\\n', loc='left', fontsize=22)\n",
    "    plt.xlabel('Features')\n",
    "    plt.yticks(fontsize=8)\n",
    "    plt.xticks(rotation = 90, fontsize=8)\n",
    "    plt.ylabel('Correlations')\n",
    "    plt.tight_layout()\n",
    "    plt.margins(x=0)\n",
    "    plt.show()\n",
    "       \n",
    "    \n",
    "    return df_output"
   ]
  },
  {
   "cell_type": "code",
   "execution_count": 11,
   "id": "3db8538b",
   "metadata": {},
   "outputs": [
    {
     "name": "stdout",
     "output_type": "stream",
     "text": [
      "Age         0.044494\n",
      "EDUC        0.047345\n",
      "Visit       0.021904\n",
      "MR Delay    0.045420\n",
      "Hand        0.000000\n",
      "SES         0.051884\n",
      "MMSE        0.156185\n",
      "CDR         0.476652\n",
      "eTIV        0.046905\n",
      "nWBV        0.061865\n",
      "ASF         0.047346\n",
      "dtype: float64\n"
     ]
    },
    {
     "data": {
      "image/png": "[encoded data removed]",
      "text/plain": [
       "<Figure size 684x396 with 1 Axes>"
      ]
     },
     "metadata": {
      "needs_background": "light"
     },
     "output_type": "display_data"
    }
   ],
   "source": [
    "selected_features = extra_tree_classifier(0.04, model, X, data)"
   ]
  },
  {
   "cell_type": "code",
   "execution_count": 12,
   "id": "b4219f7b",
   "metadata": {},
   "outputs": [],
   "source": [
    "def reshape_input(data, alt_time_steps):\n",
    "    if isinstance(data, pd.DataFrame):\n",
    "        data = data.values\n",
    "    \n",
    "    # Reshape the data into a 3D array\n",
    "    num_samples = data.shape[0] \n",
    "    num_features = data.shape[1]\n",
    "    input = np.zeros((num_samples, alt_time_steps, num_features))\n",
    "    for i in range(num_samples):\n",
    "        if i+alt_time_steps < num_samples:\n",
    "            input[i, :, :] = data[i:i+alt_time_steps, :]\n",
    "            \n",
    "    return input"
   ]
  },
  {
   "cell_type": "code",
   "execution_count": 13,
   "id": "3ce1c768",
   "metadata": {},
   "outputs": [],
   "source": [
    "# Define the MLP network for tabular data\n",
    "class classifier():\n",
    "    def __init__(self, num_tabular_features, desired_image_shape, time_step):\n",
    "        self.num_tabular_features = num_tabular_features\n",
    "        self.desired_image_shape = desired_image_shape\n",
    "        self.num_features = num_tabular_features\n",
    "        self.time_step = time_step\n",
    "        self.tabular_model = None\n",
    "        self.image_model = None\n",
    "        self.multi_modal_model = None\n",
    "    \n",
    "    def tabular_classifier(self):\n",
    "        tabular_model = Sequential(name=\"tabular_classifier\")\n",
    "        tabular_model.add(LSTM(self.num_features, return_sequences=True, input_shape=(self.time_step, self.num_features), activation='tanh', dropout=0.2))\n",
    "        tabular_model.add(LSTM((self.num_features*2), return_sequences=True, input_shape=(self.time_step, self.num_features), activation='sigmoid', dropout=0.2))\n",
    "        tabular_model.add(LSTM((self.num_features*4), input_shape=(self.time_step, self.num_features), activation='relu', dropout=0.2))\n",
    "        tabular_model.add(Dense(3, activation='softmax'))\n",
    "        adam = Adam(learning_rate=0.001)\n",
    "        tabular_model.compile(loss='categorical_crossentropy', optimizer=adam, metrics=['accuracy'])\n",
    "        \n",
    "        return tabular_model\n",
    "\n",
    "    # Define the CNN network for image data\n",
    "    def image_classifier(self):\n",
    "        image_input = Input(shape=self.desired_image_shape)\n",
    "        image_conv1 = Conv2D(32, (2, 2), activation='relu', padding='same')(image_input)\n",
    "        image_maxpool1 = MaxPooling2D((2, 2), padding='same')(image_conv1)\n",
    "        image_conv2 = Conv2D(64, (2, 2), activation='relu', padding='same')(image_maxpool1)\n",
    "        image_maxpool2 = MaxPooling2D((2, 2), padding='same')(image_conv2)\n",
    "        image_conv3 = Conv2D(128, (2, 2), activation='relu', padding='same')(image_maxpool2)\n",
    "        image_maxpool3 = MaxPooling2D((2, 2), padding='same')(image_conv3)\n",
    "        image_flat = Flatten()(image_maxpool2)\n",
    "#         image_LSTM = LSTM(128, activation='softmax')(image_flat)\n",
    "        image_output = Dense(3, activation='softmax')(image_flat)\n",
    "        image_model = Model(inputs=image_input, outputs=image_output, name=\"image_classifier\")\n",
    "        image_model.compile(optimizer='adam', loss='categorical_crossentropy', metrics=['accuracy'])\n",
    "        \n",
    "        return image_model\n",
    "      \n",
    "    def build_classifier(self):\n",
    "        self.tabular_model = self.tabular_classifier()\n",
    "        self.image_model = self.image_classifier()\n",
    "\n",
    "        # Combine the feature vectors using concatenation\n",
    "        combined_features = Concatenate()([self.tabular_model.output, self.image_model.output])\n",
    "\n",
    "        # Fusion Layer: You can add additional layers here if needed\n",
    "        fusion_layer = Dense(64, activation='relu')(combined_features)\n",
    "\n",
    "        # Output Layer for binary classification\n",
    "        output_layer = Dense(3, activation='sigmoid')(fusion_layer)\n",
    "\n",
    "        # Create the siamese network\n",
    "        self.multi_modal_model = Model(inputs=[self.tabular_model.input, self.image_model.input], outputs=output_layer, name=\"alheimers_classifier\")\n",
    "\n",
    "        # Compile the model\n",
    "        self.multi_modal_model.compile(optimizer='adam', loss='categorical_crossentropy', metrics=['accuracy'])\n"
   ]
  },
  {
   "cell_type": "code",
   "execution_count": 14,
   "id": "77353aeb",
   "metadata": {},
   "outputs": [],
   "source": [
    "def load_images(folder_path):\n",
    "    images_dict = {}\n",
    "    desired_size = (200, 200, 3)\n",
    "\n",
    "    for root, dirs, files in tqdm(os.walk(folder_path), desc=\"Processing\"):\n",
    "#         print(root)\n",
    "        # Skip the first entry (root is empty)\n",
    "        if not files:\n",
    "            continue\n",
    "        \n",
    "        # Sort the directories alphabetically\n",
    "        dirs.sort()\n",
    "\n",
    "        patient_images = []\n",
    "        for file in sorted(files):  # Sort files alphabetically\n",
    "            if file.endswith('.png') and \"nifti\" in file:\n",
    "                # get image path\n",
    "                image_path = os.path.join(root, file)\n",
    "\n",
    "                # Load the header and image data\n",
    "                image = keras.preprocessing.image.load_img(image_path, target_size=desired_size[:-1])\n",
    "                image = keras.preprocessing.image.img_to_array(image)\n",
    "\n",
    "                # Convert the image to RGB format\n",
    "                image = cv2.cvtColor(image, cv2.COLOR_BGR2RGB)\n",
    "\n",
    "                # Normalize the image to the range [0, 1]\n",
    "                image = image.astype('float32') / 255.0\n",
    "\n",
    "                # Append the preprocessed image to the list\n",
    "                patient_images.append(image)\n",
    "\n",
    "        # Store images in a dictionary with the folder as the key\n",
    "        images_dict[root] = patient_images\n",
    "\n",
    "    # Convert the dictionary values to a NumPy array\n",
    "    images_list = list(images_dict.values())\n",
    "    images = np.array(images_list, dtype=object)\n",
    "\n",
    "    return images, desired_size"
   ]
  },
  {
   "cell_type": "code",
   "execution_count": 15,
   "id": "59fe710d",
   "metadata": {
    "scrolled": true
   },
   "outputs": [
    {
     "name": "stderr",
     "output_type": "stream",
     "text": [
      "Processing: 373it [00:02, 128.30it/s]\n"
     ]
    },
    {
     "data": {
      "text/plain": [
       "(372,)"
      ]
     },
     "execution_count": 15,
     "metadata": {},
     "output_type": "execute_result"
    }
   ],
   "source": [
    "image_path = r'D:/DATASET/Dimentia/Output'\n",
    "images, desired_size = load_images(image_path)\n",
    "images.shape"
   ]
  },
  {
   "cell_type": "code",
   "execution_count": 16,
   "id": "c6a2a37d",
   "metadata": {},
   "outputs": [
    {
     "data": {
      "text/plain": [
       "(372, 200, 200, 3)"
      ]
     },
     "execution_count": 16,
     "metadata": {},
     "output_type": "execute_result"
    }
   ],
   "source": [
    "images_prep = []\n",
    "for i in range(len(images)):\n",
    "    images_prep.append(images[i][0])\n",
    "images_prep = np.array(images_prep)\n",
    "images_prep.shape"
   ]
  },
  {
   "cell_type": "code",
   "execution_count": 17,
   "id": "5c197258",
   "metadata": {},
   "outputs": [
    {
     "name": "stdout",
     "output_type": "stream",
     "text": [
      "(372, 4, 9)\n",
      "(372, 3)\n"
     ]
    }
   ],
   "source": [
    "time_step = 4\n",
    "X = X[selected_features['features']]\n",
    "X_reshaped = reshape_input(X, time_step)\n",
    "print(X_reshaped.shape)\n",
    "print(y_encoded.shape)"
   ]
  },
  {
   "cell_type": "code",
   "execution_count": 18,
   "id": "c95616e3",
   "metadata": {},
   "outputs": [
    {
     "data": {
      "text/plain": [
       "0         CDR\n",
       "1        MMSE\n",
       "2        nWBV\n",
       "3         SES\n",
       "4         ASF\n",
       "5        EDUC\n",
       "6        eTIV\n",
       "7    MR Delay\n",
       "8         Age\n",
       "Name: features, dtype: object"
      ]
     },
     "execution_count": 18,
     "metadata": {},
     "output_type": "execute_result"
    }
   ],
   "source": [
    "selected_features['features']"
   ]
  },
  {
   "cell_type": "code",
   "execution_count": 19,
   "id": "e1a3859a",
   "metadata": {
    "scrolled": false
   },
   "outputs": [
    {
     "name": "stdout",
     "output_type": "stream",
     "text": [
      "Model: \"sequential\"\n",
      "_________________________________________________________________\n",
      " Layer (type)                Output Shape              Param #   \n",
      "=================================================================\n",
      " lstm (LSTM)                 (None, 4, 9)              684       \n",
      "                                                                 \n",
      " lstm_1 (LSTM)               (None, 4, 18)             2016      \n",
      "                                                                 \n",
      " lstm_2 (LSTM)               (None, 36)                7920      \n",
      "                                                                 \n",
      " dense (Dense)               (None, 3)                 111       \n",
      "                                                                 \n",
      "=================================================================\n",
      "Total params: 10,731\n",
      "Trainable params: 10,731\n",
      "Non-trainable params: 0\n",
      "_________________________________________________________________\n",
      "Model: \"model\"\n",
      "_________________________________________________________________\n",
      " Layer (type)                Output Shape              Param #   \n",
      "=================================================================\n",
      " input_1 (InputLayer)        [(None, 200, 200, 3)]     0         \n",
      "                                                                 \n",
      " conv2d (Conv2D)             (None, 200, 200, 32)      416       \n",
      "                                                                 \n",
      " max_pooling2d (MaxPooling2D  (None, 100, 100, 32)     0         \n",
      " )                                                               \n",
      "                                                                 \n",
      " conv2d_1 (Conv2D)           (None, 100, 100, 64)      8256      \n",
      "                                                                 \n",
      " max_pooling2d_1 (MaxPooling  (None, 50, 50, 64)       0         \n",
      " 2D)                                                             \n",
      "                                                                 \n",
      " flatten (Flatten)           (None, 160000)            0         \n",
      "                                                                 \n",
      " dense_1 (Dense)             (None, 3)                 480003    \n",
      "                                                                 \n",
      "=================================================================\n",
      "Total params: 488,675\n",
      "Trainable params: 488,675\n",
      "Non-trainable params: 0\n",
      "_________________________________________________________________\n",
      "Model: \"model_1\"\n",
      "__________________________________________________________________________________________________\n",
      " Layer (type)                   Output Shape         Param #     Connected to                     \n",
      "==================================================================================================\n",
      " input_1 (InputLayer)           [(None, 200, 200, 3  0           []                               \n",
      "                                )]                                                                \n",
      "                                                                                                  \n",
      " conv2d (Conv2D)                (None, 200, 200, 32  416         ['input_1[0][0]']                \n",
      "                                )                                                                 \n",
      "                                                                                                  \n",
      " lstm_input (InputLayer)        [(None, 4, 9)]       0           []                               \n",
      "                                                                                                  \n",
      " max_pooling2d (MaxPooling2D)   (None, 100, 100, 32  0           ['conv2d[0][0]']                 \n",
      "                                )                                                                 \n",
      "                                                                                                  \n",
      " lstm (LSTM)                    (None, 4, 9)         684         ['lstm_input[0][0]']             \n",
      "                                                                                                  \n",
      " conv2d_1 (Conv2D)              (None, 100, 100, 64  8256        ['max_pooling2d[0][0]']          \n",
      "                                )                                                                 \n",
      "                                                                                                  \n",
      " lstm_1 (LSTM)                  (None, 4, 18)        2016        ['lstm[0][0]']                   \n",
      "                                                                                                  \n",
      " max_pooling2d_1 (MaxPooling2D)  (None, 50, 50, 64)  0           ['conv2d_1[0][0]']               \n",
      "                                                                                                  \n",
      " lstm_2 (LSTM)                  (None, 36)           7920        ['lstm_1[0][0]']                 \n",
      "                                                                                                  \n",
      " flatten (Flatten)              (None, 160000)       0           ['max_pooling2d_1[0][0]']        \n",
      "                                                                                                  \n",
      " dense (Dense)                  (None, 3)            111         ['lstm_2[0][0]']                 \n",
      "                                                                                                  \n",
      " dense_1 (Dense)                (None, 3)            480003      ['flatten[0][0]']                \n",
      "                                                                                                  \n",
      " concatenate (Concatenate)      (None, 6)            0           ['dense[0][0]',                  \n",
      "                                                                  'dense_1[0][0]']                \n",
      "                                                                                                  \n",
      " dense_2 (Dense)                (None, 64)           448         ['concatenate[0][0]']            \n",
      "                                                                                                  \n",
      " dense_3 (Dense)                (None, 3)            195         ['dense_2[0][0]']                \n",
      "                                                                                                  \n",
      "==================================================================================================\n",
      "Total params: 500,049\n",
      "Trainable params: 500,049\n",
      "Non-trainable params: 0\n",
      "__________________________________________________________________________________________________\n"
     ]
    }
   ],
   "source": [
    "al_classifier = classifier(len(selected_features), desired_size, time_step)\n",
    "al_classifier.build_classifier()\n",
    "al_classifier.tabular_model.summary()\n",
    "al_classifier.image_model.summary()\n",
    "al_classifier.multi_modal_model.summary()"
   ]
  },
  {
   "cell_type": "code",
   "execution_count": 20,
   "id": "2655a2d3",
   "metadata": {},
   "outputs": [
    {
     "name": "stdout",
     "output_type": "stream",
     "text": [
      "X_tabular_train shape: (297, 4, 9)\n",
      "X_tabular_test shape: (75, 4, 9)\n",
      "X_images_train shape: (297, 200, 200, 3)\n",
      "X_images_test shape: (75, 200, 200, 3)\n",
      "y_train shape: (297, 3)\n",
      "y_test shape: (75, 3)\n"
     ]
    }
   ],
   "source": [
    "from sklearn.model_selection import train_test_split\n",
    "\n",
    "# Assuming X_tabular, X_images, and y_reshaped are NumPy arrays\n",
    "\n",
    "# Split the data into training and testing sets while maintaining the correspondence\n",
    "X_tabular_train, X_tabular_test, X_images_train, X_images_test, y_train, y_test = train_test_split(\n",
    "    X_reshaped, images_prep, y_encoded, test_size=0.2, random_state=42\n",
    ")\n",
    "\n",
    "# Print the shapes of the resulting arrays\n",
    "print(\"X_tabular_train shape:\", X_tabular_train.shape)\n",
    "print(\"X_tabular_test shape:\", X_tabular_test.shape)\n",
    "print(\"X_images_train shape:\", X_images_train.shape)\n",
    "print(\"X_images_test shape:\", X_images_test.shape)\n",
    "print(\"y_train shape:\", y_train.shape)\n",
    "print(\"y_test shape:\", y_test.shape)"
   ]
  },
  {
   "cell_type": "code",
   "execution_count": 21,
   "id": "a4340566",
   "metadata": {},
   "outputs": [
    {
     "name": "stdout",
     "output_type": "stream",
     "text": [
      "Epoch 1/20\n",
      "10/10 [==============================] - 10s 635ms/step - loss: 1.0601 - accuracy: 0.5387 - val_loss: 1.0636 - val_accuracy: 0.3867\n",
      "Epoch 2/20\n",
      "10/10 [==============================] - 5s 544ms/step - loss: 1.0094 - accuracy: 0.5387 - val_loss: 1.0446 - val_accuracy: 0.3867\n",
      "Epoch 3/20\n",
      "10/10 [==============================] - 5s 544ms/step - loss: 0.9752 - accuracy: 0.5387 - val_loss: 1.0412 - val_accuracy: 0.3867\n",
      "Epoch 4/20\n",
      "10/10 [==============================] - 6s 557ms/step - loss: 0.9504 - accuracy: 0.5387 - val_loss: 1.0456 - val_accuracy: 0.3867\n",
      "Epoch 5/20\n",
      "10/10 [==============================] - 6s 581ms/step - loss: 0.9334 - accuracy: 0.5387 - val_loss: 1.0546 - val_accuracy: 0.3867\n",
      "Epoch 6/20\n",
      "10/10 [==============================] - 6s 566ms/step - loss: 0.9235 - accuracy: 0.5387 - val_loss: 1.0600 - val_accuracy: 0.3867\n",
      "Epoch 7/20\n",
      "10/10 [==============================] - 6s 560ms/step - loss: 0.9176 - accuracy: 0.5387 - val_loss: 1.0584 - val_accuracy: 0.3867\n",
      "Epoch 8/20\n",
      "10/10 [==============================] - 6s 608ms/step - loss: 0.9147 - accuracy: 0.5387 - val_loss: 1.0660 - val_accuracy: 0.3867\n",
      "Epoch 9/20\n",
      "10/10 [==============================] - 6s 595ms/step - loss: 0.9120 - accuracy: 0.5387 - val_loss: 1.0675 - val_accuracy: 0.3867\n",
      "Epoch 10/20\n",
      "10/10 [==============================] - 6s 553ms/step - loss: 0.9106 - accuracy: 0.5387 - val_loss: 1.0648 - val_accuracy: 0.3867\n",
      "Epoch 11/20\n",
      "10/10 [==============================] - 6s 577ms/step - loss: 0.9104 - accuracy: 0.5387 - val_loss: 1.0707 - val_accuracy: 0.3867\n",
      "Epoch 12/20\n",
      "10/10 [==============================] - 6s 640ms/step - loss: 0.9109 - accuracy: 0.5387 - val_loss: 1.0672 - val_accuracy: 0.3867\n",
      "Epoch 13/20\n",
      "10/10 [==============================] - 6s 579ms/step - loss: 0.9095 - accuracy: 0.5387 - val_loss: 1.0740 - val_accuracy: 0.3867\n",
      "Epoch 14/20\n",
      "10/10 [==============================] - 6s 564ms/step - loss: 0.9095 - accuracy: 0.5387 - val_loss: 1.0800 - val_accuracy: 0.3867\n",
      "Epoch 15/20\n",
      "10/10 [==============================] - 6s 553ms/step - loss: 0.9095 - accuracy: 0.5387 - val_loss: 1.0812 - val_accuracy: 0.3867\n",
      "Epoch 16/20\n",
      "10/10 [==============================] - 6s 580ms/step - loss: 0.9092 - accuracy: 0.5387 - val_loss: 1.0772 - val_accuracy: 0.3867\n",
      "Epoch 17/20\n",
      "10/10 [==============================] - 6s 583ms/step - loss: 0.9096 - accuracy: 0.5387 - val_loss: 1.0729 - val_accuracy: 0.3867\n",
      "Epoch 18/20\n",
      "10/10 [==============================] - 6s 581ms/step - loss: 0.9100 - accuracy: 0.5387 - val_loss: 1.0745 - val_accuracy: 0.3867\n",
      "Epoch 19/20\n",
      "10/10 [==============================] - 6s 591ms/step - loss: 0.9104 - accuracy: 0.5387 - val_loss: 1.0735 - val_accuracy: 0.3867\n",
      "Epoch 20/20\n",
      "10/10 [==============================] - 5s 547ms/step - loss: 0.9102 - accuracy: 0.5387 - val_loss: 1.0820 - val_accuracy: 0.3867\n"
     ]
    },
    {
     "data": {
      "text/plain": [
       "<keras.callbacks.History at 0x1cdcdc38790>"
      ]
     },
     "execution_count": 21,
     "metadata": {},
     "output_type": "execute_result"
    }
   ],
   "source": [
    "# Train the model\n",
    "al_classifier.multi_modal_model.fit([X_tabular_train, X_images_train], \n",
    "          y_train,\n",
    "          verbose=1,\n",
    "          use_multiprocessing=True,\n",
    "          workers=4,\n",
    "          validation_data=([X_tabular_test, X_images_test], y_test), \n",
    "          epochs=20)"
   ]
  }
 ],
 "metadata": {
  "kernelspec": {
   "display_name": "Python 3 (ipykernel)",
   "language": "python",
   "name": "python3"
  },
  "language_info": {
   "codemirror_mode": {
    "name": "ipython",
    "version": 3
   },
   "file_extension": ".py",
   "mimetype": "text/x-python",
   "name": "python",
   "nbconvert_exporter": "python",
   "pygments_lexer": "ipython3",
   "version": "3.9.7"
  }
 },
 "nbformat": 4,
 "nbformat_minor": 5
}
