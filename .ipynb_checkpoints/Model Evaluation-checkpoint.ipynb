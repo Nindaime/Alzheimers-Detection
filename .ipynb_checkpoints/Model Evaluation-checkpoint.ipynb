{
 "cells": [
  {
   "cell_type": "code",
   "execution_count": 3,
   "id": "78a01593",
   "metadata": {},
   "outputs": [],
   "source": [
    "import tensorflow as tf\n",
    "import pandas as pd\n",
    "import numpy as np\n",
    "import tensorflow as tf\n",
    "from tensorflow.keras.preprocessing.image import load_img, img_to_array\n",
    "from tensorflow.keras.models import Sequential, Model, load_model\n",
    "from tensorflow.keras.layers import Input, Conv2D, MaxPooling2D, Flatten, LSTM, Dense, Concatenate, Reshape, TimeDistributed\n",
    "from sklearn.model_selection import train_test_split\n",
    "from sklearn.preprocessing import LabelEncoder\n",
    "from tensorflow.keras.utils import to_categorical\n",
    "from sklearn.ensemble import ExtraTreesClassifier\n",
    "import matplotlib.pyplot as plt\n",
    "import cv2\n",
    "from tqdm import tqdm"
   ]
  },
  {
   "cell_type": "code",
   "execution_count": null,
   "id": "9b083972",
   "metadata": {},
   "outputs": [],
   "source": [
    "# Load CSV data\n",
    "csv_path = r'Dimentia Dataset\\dementia_dataset.csv'\n",
    "data = pd.read_csv(csv_path)\n",
    "data = data.fillna(0)\n",
    "\n",
    "print(data.columns)\n",
    "for column in data.drop(columns=['Group', 'Subject ID', 'MRI ID']).columns:\n",
    "        data[column] = data[column].astype('category').cat.codes"
   ]
  },
  {
   "cell_type": "code",
   "execution_count": null,
   "id": "9505e9e5",
   "metadata": {},
   "outputs": [],
   "source": [
    "def generate_data(df, extra_trees_classifier):\n",
    "    X = df[['Age', 'EDUC', 'Visit', 'MR Delay', 'Hand', 'SES', 'MMSE', 'CDR', 'eTIV', 'nWBV', 'ASF']]\n",
    "    print(f'Number of Features before feature selection {X.shape}')\n",
    "    y = df['Group'] # set the y to the dependent output variable\n",
    "    model = extra_trees_classifier()\n",
    "    model.fit(X,y)\n",
    "    print(model)\n",
    "    return X, y, model\n",
    "    \n",
    "X, y, model = generate_data(data, ExtraTreesClassifier)"
   ]
  },
  {
   "cell_type": "code",
   "execution_count": null,
   "id": "db0f493b",
   "metadata": {},
   "outputs": [],
   "source": [
    "def encode_output(y):\n",
    "    onehot = pd.get_dummies(y)\n",
    "    output = onehot.to_numpy()\n",
    "    \n",
    "    return output"
   ]
  },
  {
   "cell_type": "code",
   "execution_count": null,
   "id": "6e260f30",
   "metadata": {},
   "outputs": [],
   "source": [
    "y_encoded = encode_output(y)\n",
    "print(y_encoded.shape)\n",
    "print(y_encoded[:5])"
   ]
  },
  {
   "cell_type": "code",
   "execution_count": null,
   "id": "43ca3ffd",
   "metadata": {},
   "outputs": [],
   "source": [
    "def reshape_input(data, alt_time_steps):\n",
    "    if isinstance(data, pd.DataFrame):\n",
    "        data = data.values\n",
    "    \n",
    "    # Reshape the data into a 3D array\n",
    "    num_samples = data.shape[0] \n",
    "    num_features = data.shape[1]\n",
    "    input = np.zeros((num_samples, alt_time_steps, num_features))\n",
    "    for i in range(num_samples):\n",
    "        if i+alt_time_steps < num_samples:\n",
    "            input[i, :, :] = data[i:i+alt_time_steps, :]\n",
    "            \n",
    "    return input"
   ]
  },
  {
   "cell_type": "code",
   "execution_count": null,
   "id": "9be4f721",
   "metadata": {},
   "outputs": [],
   "source": [
    "def load_images(folder_path):\n",
    "    images_dict = {}\n",
    "    desired_size = (200, 200, 3)\n",
    "\n",
    "    for root, dirs, files in tqdm(os.walk(folder_path), desc=\"Processing\"):\n",
    "#         print(root)\n",
    "        # Skip the first entry (root is empty)\n",
    "        if not files:\n",
    "            continue\n",
    "        \n",
    "        # Sort the directories alphabetically\n",
    "        dirs.sort()\n",
    "\n",
    "        patient_images = []\n",
    "        for file in sorted(files):  # Sort files alphabetically\n",
    "            if file.endswith('.png') and \"nifti\" in file:\n",
    "                # get image path\n",
    "                image_path = os.path.join(root, file)\n",
    "\n",
    "                # Load the header and image data\n",
    "                image = keras.preprocessing.image.load_img(image_path, target_size=desired_size[:-1])\n",
    "                image = keras.preprocessing.image.img_to_array(image)\n",
    "\n",
    "                # Convert the image to RGB format\n",
    "                image = cv2.cvtColor(image, cv2.COLOR_BGR2RGB)\n",
    "\n",
    "                # Normalize the image to the range [0, 1]\n",
    "                image = image.astype('float32') / 255.0\n",
    "\n",
    "                # Append the preprocessed image to the list\n",
    "                patient_images.append(image)\n",
    "\n",
    "        # Store images in a dictionary with the folder as the key\n",
    "        images_dict[root] = np.array(patient_images)\n",
    "\n",
    "    # Convert the dictionary values to a NumPy array\n",
    "    images_list = list(images_dict.values())\n",
    "    images = np.array(images_list, dtype=object)\n",
    "\n",
    "    return images"
   ]
  },
  {
   "cell_type": "code",
   "execution_count": null,
   "id": "e910d03c",
   "metadata": {},
   "outputs": [],
   "source": [
    "image_path = r'Dimentia Dataset/Output'\n",
    "images = load_images(image_path)\n",
    "images_sequences = np.array(images)\n",
    "print(images_sequences.shape)"
   ]
  },
  {
   "cell_type": "code",
   "execution_count": null,
   "id": "d19c27c3",
   "metadata": {},
   "outputs": [],
   "source": [
    "max_num_images = 4\n",
    "image_shape = (200, 200, 3)\n",
    "padded_images_sequence = [np.pad(sequence, ((0, max_num_images - sequence.shape[0]), (0, 0), (0, 0), (0, 0)), mode='constant') for sequence in images_sequences]\n",
    "image_data = np.stack(padded_images_sequence)\n",
    "desired_shape = (image_data[0].shape)\n",
    "print(desired_shape)"
   ]
  },
  {
   "cell_type": "code",
   "execution_count": null,
   "id": "8668879b",
   "metadata": {},
   "outputs": [],
   "source": [
    "selected_features = ['Age','EDUC','MR Delay','SES','MMSE','CDR','eTIV','nWBV','ASF']"
   ]
  },
  {
   "cell_type": "code",
   "execution_count": null,
   "id": "795c457c",
   "metadata": {},
   "outputs": [],
   "source": [
    "time_step = 4\n",
    "X = X[selected_features['features']]\n",
    "X_reshaped = reshape_input(X, time_step)\n",
    "print(X_reshaped.shape)\n",
    "print(y_encoded.shape)"
   ]
  },
  {
   "cell_type": "code",
   "execution_count": null,
   "id": "531e19e1",
   "metadata": {},
   "outputs": [],
   "source": [
    "dimentia_classifier = model_load('dimentia_detector.h5')\n",
    "dimentia_classifier.tabular_model.summary()\n",
    "dimentia_classifier.image_model.summary()"
   ]
  },
  {
   "cell_type": "code",
   "execution_count": null,
   "id": "3fdaccf3",
   "metadata": {},
   "outputs": [],
   "source": [
    "dimentia_classifier.multi_modal_model.summary()"
   ]
  },
  {
   "cell_type": "code",
   "execution_count": null,
   "id": "e5d0877f",
   "metadata": {},
   "outputs": [],
   "source": [
    "dimentia_train_r3_metric = dimentia_classifier.multi_modal_model.evaluate([X_tabular_train, X_images_train], y_train, use_multiprocessing = True, workers = 32, return_dict=True)\n",
    "dimentia_test_r3_metric = dimentia_classifier.multi_modal_model.evaluate([X_tabular_test, X_images_test], y_test, use_multiprocessing = True, workers=32, return_dict=True)\n",
    "print(f'Accuracy during training: {round(dimentia_train_r3_metric[\"accuracy\"]*100, 2)}% and loss: {round(dimentia_train_r3_metric[\"loss\"], 4)}')\n",
    "print(f'Accuracy during test: {round(dimentia_test_r3_metric[\"accuracy\"]*100, 2)}% and loss: {round(dimentia_test_r3_metric[\"loss\"], 4)}')"
   ]
  },
  {
   "cell_type": "code",
   "execution_count": null,
   "id": "cfe0a5ea",
   "metadata": {},
   "outputs": [],
   "source": [
    "from sklearn.model_selection import train_test_split\n",
    "\n",
    "# Assuming X_tabular, X_images, and y_reshaped are NumPy arrays\n",
    "\n",
    "# Split the data into training and testing sets while maintaining the correspondence\n",
    "X_tabular_train, X_tabular_test, X_images_train, X_images_test, y_train, y_test = train_test_split(\n",
    "    X_reshaped, image_data, y_encoded, test_size=0.2, random_state=42\n",
    ")\n",
    "\n",
    "# Print the shapes of the resulting arrays\n",
    "print(\"X_tabular_train shape:\", X_tabular_train.shape)\n",
    "print(\"X_tabular_test shape:\", X_tabular_test.shape)\n",
    "print(\"X_images_train shape:\", X_images_train.shape)\n",
    "print(\"X_images_test shape:\", X_images_test.shape)\n",
    "print(\"y_train shape:\", y_train.shape)\n",
    "print(\"y_test shape:\", y_test.shape)"
   ]
  },
  {
   "cell_type": "code",
   "execution_count": null,
   "id": "8c70f25c",
   "metadata": {},
   "outputs": [],
   "source": [
    "# Make predictions on the test set\n",
    "y_pred_prob = model.predict(X_test)\n",
    "\n",
    "# Calculate ROC curve and AUC\n",
    "fpr, tpr, _ = roc_curve(y_test, y_pred_prob)\n",
    "roc_auc = auc(fpr, tpr)\n",
    "\n",
    "# Plot ROC curve\n",
    "plt.figure(figsize=(8, 8))\n",
    "plt.plot(fpr, tpr, color='darkorange', lw=2, label='ROC curve (AUC = {:.2f})'.format(roc_auc))\n",
    "plt.plot([0, 1], [0, 1], color='navy', lw=2, linestyle='--')\n",
    "plt.xlabel('False Positive Rate')\n",
    "plt.ylabel('True Positive Rate')\n",
    "plt.title('Receiver Operating Characteristic (ROC) Curve')\n",
    "plt.legend(loc='lower right')\n",
    "plt.show()"
   ]
  },
  {
   "cell_type": "code",
   "execution_count": null,
   "id": "be6a3e07",
   "metadata": {},
   "outputs": [],
   "source": [
    "# Calculate precision-recall curve and AUC\n",
    "precision, recall, _ = precision_recall_curve(y_test, y_pred_prob)\n",
    "pr_auc = average_precision_score(y_test, y_pred_prob)\n",
    "\n",
    "# Plot Precision-Recall curve\n",
    "plt.figure(figsize=(8, 8))\n",
    "plt.step(recall, precision, color='b', alpha=0.2, where='post')\n",
    "plt.fill_between(recall, precision, step='post', alpha=0.2, color='b')\n",
    "plt.xlabel('Recall')\n",
    "plt.ylabel('Precision')\n",
    "plt.ylim([0.0, 1.05])\n",
    "plt.xlim([0.0, 1.0])\n",
    "plt.title('Precision-Recall curve (AUC = {:.2f})'.format(pr_auc))\n",
    "plt.show()"
   ]
  },
  {
   "cell_type": "code",
   "execution_count": null,
   "id": "b42ba0ca",
   "metadata": {},
   "outputs": [],
   "source": [
    "# Calculate and print F1 score, recall, precision\n",
    "y_pred = (y_pred_prob > 0.5).astype(int)\n",
    "f1 = f1_score(y_test, y_pred)\n",
    "recall = recall_score(y_test, y_pred)\n",
    "precision = precision_score(y_test, y_pred)\n",
    "\n",
    "print('F1 Score:', f1)\n",
    "print('Recall:', recall)\n",
    "print('Precision:', precision)"
   ]
  }
 ],
 "metadata": {
  "kernelspec": {
   "display_name": "Python 3 (ipykernel)",
   "language": "python",
   "name": "python3"
  },
  "language_info": {
   "codemirror_mode": {
    "name": "ipython",
    "version": 3
   },
   "file_extension": ".py",
   "mimetype": "text/x-python",
   "name": "python",
   "nbconvert_exporter": "python",
   "pygments_lexer": "ipython3",
   "version": "3.7.1"
  }
 },
 "nbformat": 4,
 "nbformat_minor": 5
}
