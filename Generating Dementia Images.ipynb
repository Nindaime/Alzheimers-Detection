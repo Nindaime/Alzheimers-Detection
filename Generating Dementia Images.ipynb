{
 "cells": [
  {
   "cell_type": "code",
   "execution_count": 54,
   "id": "060ad8ab",
   "metadata": {},
   "outputs": [],
   "source": [
    "#define method to create folders\n",
    "def make_folder(foldername):\n",
    "    if not os.path.exists(foldername):\n",
    "        # create the directory if it doesn't exist\n",
    "        os.makedirs(foldername)\n",
    "    return foldername"
   ]
  },
  {
   "cell_type": "code",
   "execution_count": 66,
   "id": "213b9d2a",
   "metadata": {},
   "outputs": [
    {
     "name": "stderr",
     "output_type": "stream",
     "text": [
      "Processing: 3101it [02:45, 18.75it/s]\n"
     ]
    }
   ],
   "source": [
    "import os\n",
    "import numpy as np\n",
    "import nibabel as nib\n",
    "from tqdm import tqdm\n",
    "import matplotlib.pyplot as plt\n",
    "from skimage.transform import resize, rotate\n",
    "\n",
    "# Path to the folder containing the MRI files\n",
    "input_path = r'D:\\DATASET\\Dimensia\\Input'\n",
    "output_path = r'D:\\DATASET\\Dimensia\\Output'\n",
    "\n",
    "# check if the directory exists\n",
    "make_folder(output_path)\n",
    "\n",
    "for root, dirs, files in tqdm(os.walk(input_path), desc=\"Processing\"):\n",
    "        for file in files:\n",
    "            if file.endswith('.img') and \"nifti\" in file:\n",
    "                output_filename= os.path.splitext(file)[0]\n",
    "                \n",
    "                # Load the header and image data\n",
    "                image_path = os.path.join(root, file)\n",
    "\n",
    "                img = nib.load(image_path)\n",
    "                data = img.get_fdata()\n",
    "\n",
    "                # Split the path and get the last two components\n",
    "                folder_name = os.path.basename(root.split(os.path.sep)[-3])\n",
    "                output_folder_name = make_folder(os.path.join(output_path, folder_name))\n",
    "                \n",
    "                # Iterate over each slice and save as PNG\n",
    "                for i in range(data.shape[2]):\n",
    "                    if i == 67:\n",
    "                        slice_data = data[:, :, i]  # Extract the slice data\n",
    "\n",
    "                        # Rotate the image by -90 degrees\n",
    "                        rotated_slice = rotate(slice_data, 90, resize=False)\n",
    "\n",
    "                         # Pad the image to achieve desired size\n",
    "                        pad_height = (256 - rotated_slice.shape[0]) // 2\n",
    "                        pad_width = (256 - rotated_slice.shape[1]) // 2\n",
    "                        pad_widths = ((pad_height, pad_height), (pad_width, pad_width), (0, 0))  # Add a new dimension for padding\n",
    "                        padded_slice = np.pad(rotated_slice, pad_widths, mode='constant')\n",
    "\n",
    "                        # Resize the image to 256x256\n",
    "                        resized_slice = resize(padded_slice, (256, 256), preserve_range=True).astype(np.float32)\n",
    "\n",
    "                        plt.imshow(resized_slice, cmap='gray')  # Display the slice\n",
    "                        plt.axis('off')  # Disable axis\n",
    "                        plt.savefig(os.path.join(output_folder_name, f'{output_filename}.png'), bbox_inches='tight', pad_inches=0, metadata={'Software': 'Matplotlib'})  # Save as PNG\n",
    "                        plt.close()"
   ]
  }
 ],
 "metadata": {
  "kernelspec": {
   "display_name": "Python 3 (ipykernel)",
   "language": "python",
   "name": "python3"
  },
  "language_info": {
   "codemirror_mode": {
    "name": "ipython",
    "version": 3
   },
   "file_extension": ".py",
   "mimetype": "text/x-python",
   "name": "python",
   "nbconvert_exporter": "python",
   "pygments_lexer": "ipython3",
   "version": "3.9.7"
  }
 },
 "nbformat": 4,
 "nbformat_minor": 5
}
