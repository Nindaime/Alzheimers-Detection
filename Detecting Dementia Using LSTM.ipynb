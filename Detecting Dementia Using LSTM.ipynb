{
 "cells": [
  {
   "cell_type": "code",
   "execution_count": 1,
   "id": "55355577",
   "metadata": {},
   "outputs": [],
   "source": [
    "import os\n",
    "\n",
    "# Disable GPU\n",
    "os.environ['CUDA_VISIBLE_DEVICES'] = '-1'\n",
    "\n",
    "import tensorflow as tf\n",
    "\n",
    "# Disable GPU\n",
    "tf.config.experimental.list_physical_devices('GPU')\n",
    "tf.config.experimental.set_visible_devices([], 'GPU')\n",
    "\n",
    "# Disable GPU\n",
    "tf.config.set_visible_devices([], 'GPU')"
   ]
  },
  {
   "cell_type": "markdown",
   "id": "f1f9c15e",
   "metadata": {},
   "source": [
    "## Import Relevant Libraries for Training"
   ]
  },
  {
   "cell_type": "code",
   "execution_count": 1,
   "id": "0d28e42a",
   "metadata": {},
   "outputs": [],
   "source": [
    "import os\n",
    "import pandas as pd\n",
    "import numpy as np\n",
    "import tensorflow as tf\n",
    "from tensorflow import keras\n",
    "from tensorflow.keras.preprocessing.image import load_img, img_to_array\n",
    "from tensorflow.keras.models import Sequential, Model\n",
    "from tensorflow.keras.layers import Input, Conv2D, MaxPooling2D, Flatten, LSTM, Dense, Concatenate, Reshape, TimeDistributed\n",
    "from sklearn.model_selection import train_test_split\n",
    "from tensorflow.keras.optimizers import Adam, Nadam\n",
    "from sklearn.preprocessing import LabelEncoder\n",
    "from tensorflow.keras.utils import to_categorical\n",
    "from sklearn.ensemble import ExtraTreesClassifier\n",
    "import matplotlib.pyplot as plt\n",
    "import cv2\n",
    "import mplcursors\n",
    "from tqdm import tqdm"
   ]
  },
  {
   "cell_type": "markdown",
   "id": "566bebae",
   "metadata": {},
   "source": [
    "### Load Dataset"
   ]
  },
  {
   "cell_type": "code",
   "execution_count": 2,
   "id": "e2506b6a",
   "metadata": {},
   "outputs": [
    {
     "name": "stdout",
     "output_type": "stream",
     "text": [
      "Index(['Subject ID', 'MRI ID', 'Group', 'Visit', 'MR Delay', 'M/F', 'Hand',\n",
      "       'Age', 'EDUC', 'SES', 'MMSE', 'CDR', 'eTIV', 'nWBV', 'ASF'],\n",
      "      dtype='object')\n"
     ]
    }
   ],
   "source": [
    "# Load CSV data\n",
    "csv_path = r'Dimentia Dataset\\dementia_dataset.csv'\n",
    "data = pd.read_csv(csv_path)\n",
    "data = data.fillna(0)\n",
    "\n",
    "print(data.columns)\n",
    "for column in data.drop(columns=['Group', 'Subject ID', 'MRI ID']).columns:\n",
    "        data[column] = data[column].astype('category').cat.codes"
   ]
  },
  {
   "cell_type": "code",
   "execution_count": 3,
   "id": "db80ab02",
   "metadata": {},
   "outputs": [
    {
     "name": "stdout",
     "output_type": "stream",
     "text": [
      "Number of Features before feature selection (372, 11)\n",
      "ExtraTreesClassifier()\n"
     ]
    }
   ],
   "source": [
    "def generate_data(df, extra_trees_classifier):\n",
    "    X = df[['Age', 'EDUC', 'Visit', 'MR Delay', 'Hand', 'SES', 'MMSE', 'CDR', 'eTIV', 'nWBV', 'ASF']]\n",
    "    print(f'Number of Features before feature selection {X.shape}')\n",
    "    y = df['Group'] # set the y to the dependent output variable\n",
    "    model = extra_trees_classifier()\n",
    "    model.fit(X,y)\n",
    "    print(model)\n",
    "    return X, y, model\n",
    "    \n",
    "X, y, model = generate_data(data, ExtraTreesClassifier)"
   ]
  },
  {
   "cell_type": "code",
   "execution_count": 4,
   "id": "defc2108",
   "metadata": {},
   "outputs": [],
   "source": [
    "def encode_output(y):\n",
    "    onehot = pd.get_dummies(y)\n",
    "    output = onehot.to_numpy()\n",
    "    \n",
    "    return output"
   ]
  },
  {
   "cell_type": "code",
   "execution_count": 5,
   "id": "0b7a601d",
   "metadata": {},
   "outputs": [
    {
     "name": "stdout",
     "output_type": "stream",
     "text": [
      "(372, 11)\n",
      "   Age  EDUC  Visit  MR Delay  Hand  SES  MMSE  CDR  eTIV  nWBV  ASF\n",
      "0   28     5      1        15     0    2    18    0   284    20    0\n",
      "1   15     3      0         0     0    0    11    1   231    73   51\n",
      "2   16     3      1        32     0    0    16    1   254    51   31\n",
      "3   20     3      2       185     0    0    10    1   238    40   45\n",
      "4   28     9      0         0     0    3    16    0    16    48  247\n"
     ]
    }
   ],
   "source": [
    "print(X.shape)\n",
    "print(X[:5])"
   ]
  },
  {
   "cell_type": "code",
   "execution_count": 6,
   "id": "7ad125d6",
   "metadata": {},
   "outputs": [
    {
     "name": "stdout",
     "output_type": "stream",
     "text": [
      "(372,)\n",
      "0    Nondemented\n",
      "1       Demented\n",
      "2       Demented\n",
      "3       Demented\n",
      "4    Nondemented\n",
      "Name: Group, dtype: object\n"
     ]
    }
   ],
   "source": [
    "print(y.shape)\n",
    "print(y[:5])"
   ]
  },
  {
   "cell_type": "code",
   "execution_count": 7,
   "id": "ee6844da",
   "metadata": {},
   "outputs": [
    {
     "name": "stdout",
     "output_type": "stream",
     "text": [
      "(372, 1)\n",
      "imbalance of this predicted variable is: 129.0% \n",
      "\n",
      "Imbalance Variables\n",
      "Nondemented    189\n",
      "Demented       146\n",
      "Converted       37\n",
      "Name: Group, dtype: int64\n"
     ]
    }
   ],
   "source": [
    "def output_stats(y):\n",
    "    y = pd.DataFrame(y)\n",
    "    print (y.shape)\n",
    "    \n",
    "    y.columns = y.columns.str.strip() #to remove white spaces from column headers\n",
    "\n",
    "    imbalance = y.Group.value_counts() #check dataset for imbalances\n",
    "    \n",
    "    #imbalanace is the distribution of the training outcome. If the dataset is bias with more outcomes, the model will be better at predicting that outcome\n",
    "    if(imbalance.shape[0] > 1): # condition prevents code from throwing error if the dataset has only on type of output (e.g., 0 for days without intrusion)\n",
    "        print(f'imbalance of this predicted variable is: {round(imbalance[0]/imbalance[1], 2) * 100}% \\n\\nImbalance Variables\\n{imbalance}')\n",
    "    return y\n",
    "\n",
    "y_stats = output_stats(y)"
   ]
  },
  {
   "cell_type": "code",
   "execution_count": 8,
   "id": "68a4b99c",
   "metadata": {},
   "outputs": [
    {
     "name": "stdout",
     "output_type": "stream",
     "text": [
      "(372, 3)\n",
      "[[0 0 1]\n",
      " [0 1 0]\n",
      " [0 1 0]\n",
      " [0 1 0]\n",
      " [0 0 1]]\n"
     ]
    }
   ],
   "source": [
    "y_encoded = encode_output(y)\n",
    "print(y_encoded.shape)\n",
    "print(y_encoded[:5])"
   ]
  },
  {
   "cell_type": "markdown",
   "id": "78e1cb17",
   "metadata": {},
   "source": [
    "### Preprocess Data"
   ]
  },
  {
   "cell_type": "code",
   "execution_count": 9,
   "id": "6e8f5aaf",
   "metadata": {
    "scrolled": true
   },
   "outputs": [],
   "source": [
    "def extra_tree_classifier(threshold, model, X, df):\n",
    "\n",
    "    feat_importances = pd.Series(model.feature_importances_, index = X.columns)\n",
    "    print(feat_importances)\n",
    "    correlations = feat_importances.nlargest(df.shape[1])\n",
    "\n",
    "    df = pd.DataFrame(correlations).reset_index()\n",
    "    df.columns = ['features', 'data']\n",
    "    \n",
    "    df_output = df[df['data'] >= threshold]\n",
    "    \n",
    "    #This is to ensure the feature selector returns features when feature correlation between X and y is 0 \n",
    "    while df_output.shape[0] < 3: # features must be a minimum of 3\n",
    "        \n",
    "        print(f'Current Feature size before adjustment: {df_output.shape[0]}')\n",
    "        threshold = round(threshold - 0.01, 2) # reduced threshold by 1% to increase number of threshold\n",
    "        print(f'New Threshold: {threshold}')\n",
    "        df_output = df[df['data'] >= threshold]\n",
    "        print(f'Current Feature size after adjustment: {df_output.shape[0]}')\n",
    "        if(threshold == 0):\n",
    "            print(f'Final Correlation: {threshold * 100}%')\n",
    "            break\n",
    "                \n",
    "    tooltip = df.data\n",
    "    tt = [str(round((ttip * 100), 2)) + '% correlation' for ttip in tooltip.values]\n",
    "    \n",
    "    fig, ax = plt.subplots(1, figsize=(9.5,5.5))\n",
    "    \n",
    "    ax.bar(df['features'], df['data'], align=\"center\")\n",
    "    cursor = mplcursors.cursor(hover=mplcursors.HoverMode.Transient)\n",
    "    @cursor.connect(\"add\")\n",
    "    def on_add(sel):\n",
    "        sel.annotation.set(text=tt[sel.target.index])\n",
    "        \n",
    "    plt.title('Feature Correlation with Output - Label\\n', loc='left', fontsize=22)\n",
    "    plt.xlabel('Features')\n",
    "    plt.yticks(fontsize=8)\n",
    "    plt.xticks(rotation = 90, fontsize=8)\n",
    "    plt.ylabel('Correlations')\n",
    "    plt.tight_layout()\n",
    "    plt.margins(x=0)\n",
    "    plt.show()\n",
    "       \n",
    "    \n",
    "    return df_output"
   ]
  },
  {
   "cell_type": "code",
   "execution_count": 10,
   "id": "3db8538b",
   "metadata": {},
   "outputs": [
    {
     "name": "stdout",
     "output_type": "stream",
     "text": [
      "Age         0.044942\n",
      "EDUC        0.048816\n",
      "Visit       0.021405\n",
      "MR Delay    0.043721\n",
      "Hand        0.000000\n",
      "SES         0.054742\n",
      "MMSE        0.150439\n",
      "CDR         0.484300\n",
      "eTIV        0.046376\n",
      "nWBV        0.061092\n",
      "ASF         0.044167\n",
      "dtype: float64\n"
     ]
    },
    {
     "data": {
      "image/png": "[encoded data removed]",
      "text/plain": [
       "<Figure size 950x550 with 1 Axes>"
      ]
     },
     "metadata": {},
     "output_type": "display_data"
    }
   ],
   "source": [
    "selected_features = extra_tree_classifier(0.04, model, X, data)"
   ]
  },
  {
   "cell_type": "code",
   "execution_count": 11,
   "id": "b4219f7b",
   "metadata": {},
   "outputs": [],
   "source": [
    "def reshape_input(data, alt_time_steps):\n",
    "    if isinstance(data, pd.DataFrame):\n",
    "        data = data.values\n",
    "    \n",
    "    # Reshape the data into a 3D array\n",
    "    num_samples = data.shape[0] \n",
    "    num_features = data.shape[1]\n",
    "    input = np.zeros((num_samples, alt_time_steps, num_features))\n",
    "    for i in range(num_samples):\n",
    "        if i+alt_time_steps < num_samples:\n",
    "            input[i, :, :] = data[i:i+alt_time_steps, :]\n",
    "            \n",
    "    return input"
   ]
  },
  {
   "cell_type": "code",
   "execution_count": 12,
   "id": "77353aeb",
   "metadata": {},
   "outputs": [],
   "source": [
    "def load_images(folder_path):\n",
    "    images_dict = {}\n",
    "    desired_size = (200, 200, 3)\n",
    "\n",
    "    for root, dirs, files in tqdm(os.walk(folder_path), desc=\"Processing\"):\n",
    "#         print(root)\n",
    "        # Skip the first entry (root is empty)\n",
    "        if not files:\n",
    "            continue\n",
    "        \n",
    "        # Sort the directories alphabetically\n",
    "        dirs.sort()\n",
    "\n",
    "        patient_images = []\n",
    "        for file in sorted(files):  # Sort files alphabetically\n",
    "            if file.endswith('.png') and \"nifti\" in file:\n",
    "                # get image path\n",
    "                image_path = os.path.join(root, file)\n",
    "\n",
    "                # Load the header and image data\n",
    "                image = keras.preprocessing.image.load_img(image_path, target_size=desired_size[:-1])\n",
    "                image = keras.preprocessing.image.img_to_array(image)\n",
    "\n",
    "                # Convert the image to RGB format\n",
    "                image = cv2.cvtColor(image, cv2.COLOR_BGR2RGB)\n",
    "\n",
    "                # Normalize the image to the range [0, 1]\n",
    "                image = image.astype('float32') / 255.0\n",
    "\n",
    "                # Append the preprocessed image to the list\n",
    "                patient_images.append(image)\n",
    "\n",
    "        # Store images in a dictionary with the folder as the key\n",
    "        images_dict[root] = np.array(patient_images)\n",
    "\n",
    "    # Convert the dictionary values to a NumPy array\n",
    "    images_list = list(images_dict.values())\n",
    "    images = np.array(images_list, dtype=object)\n",
    "\n",
    "    return images"
   ]
  },
  {
   "cell_type": "code",
   "execution_count": 13,
   "id": "59fe710d",
   "metadata": {
    "scrolled": true
   },
   "outputs": [
    {
     "name": "stderr",
     "output_type": "stream",
     "text": [
      "Processing: 373it [00:03, 111.12it/s]"
     ]
    },
    {
     "name": "stdout",
     "output_type": "stream",
     "text": [
      "(372,)\n"
     ]
    },
    {
     "name": "stderr",
     "output_type": "stream",
     "text": [
      "\n"
     ]
    }
   ],
   "source": [
    "image_path = r'Dimentia Dataset/Output'\n",
    "images = load_images(image_path)\n",
    "images_sequences = np.array(images)\n",
    "print(images_sequences.shape)"
   ]
  },
  {
   "cell_type": "code",
   "execution_count": 14,
   "id": "c6a2a37d",
   "metadata": {},
   "outputs": [
    {
     "name": "stdout",
     "output_type": "stream",
     "text": [
      "(4, 200, 200, 3)\n"
     ]
    }
   ],
   "source": [
    "max_num_images = 4\n",
    "image_shape = (200, 200, 3)\n",
    "padded_images_sequence = [np.pad(sequence, ((0, max_num_images - sequence.shape[0]), (0, 0), (0, 0), (0, 0)), mode='constant') for sequence in images_sequences]\n",
    "image_data = np.stack(padded_images_sequence)\n",
    "desired_shape = (image_data[0].shape)\n",
    "print(desired_shape)"
   ]
  },
  {
   "cell_type": "code",
   "execution_count": 15,
   "id": "5c197258",
   "metadata": {},
   "outputs": [
    {
     "name": "stdout",
     "output_type": "stream",
     "text": [
      "(372, 4, 9)\n",
      "(372, 3)\n"
     ]
    }
   ],
   "source": [
    "time_step = 4\n",
    "X = X[selected_features['features']]\n",
    "X_reshaped = reshape_input(X, time_step)\n",
    "print(X_reshaped.shape)\n",
    "print(y_encoded.shape)"
   ]
  },
  {
   "cell_type": "code",
   "execution_count": 16,
   "id": "3ce1c768",
   "metadata": {},
   "outputs": [],
   "source": [
    "# Define the MLP network for tabular data\n",
    "class classifier():\n",
    "    def __init__(self, num_tabular_features, desired_image_shape, time_step):\n",
    "        self.num_tabular_features = num_tabular_features\n",
    "        self.desired_image_shape = desired_image_shape\n",
    "        self.num_features = num_tabular_features\n",
    "        self.time_step = time_step\n",
    "        self.tabular_model = None\n",
    "        self.image_model = None\n",
    "        self.multi_modal_model = None\n",
    "    \n",
    "    def tabular_classifier(self):\n",
    "        tabular_model = Sequential(name=\"tabular_classifier\")\n",
    "        tabular_model.add(LSTM(256, input_shape=(self.time_step, self.num_features), activation='relu', dropout=0.2))\n",
    "        tabular_model.add(Dense(3, activation='relu'))\n",
    "        tabular_model.compile(loss='categorical_crossentropy', optimizer='nadam', metrics=['accuracy'])\n",
    "        \n",
    "        return tabular_model\n",
    "\n",
    "    # Define the CNN network for image data\n",
    "    def image_classifier(self):\n",
    "#         image_model = Sequential(name=\"image_classifier\")\n",
    "        image_input = Input(shape=self.desired_image_shape)\n",
    "        image_conv1 = TimeDistributed(Conv2D(128, 1, activation='tanh', padding='valid'))(image_input)\n",
    "        image_maxpool1 = TimeDistributed(MaxPooling2D((2, 2), padding='same'))(image_conv1)\n",
    "        image_conv2 = TimeDistributed(Conv2D(256, 1, activation='tanh', padding='valid'))(image_maxpool1)\n",
    "        image_maxpool2 = TimeDistributed(MaxPooling2D((2, 2), padding='same'))(image_conv2)\n",
    "        image_flat = TimeDistributed(Flatten())(image_maxpool2)\n",
    "        \n",
    "        # Combine the sequence of flattened images along the time axis\n",
    "        combined_image_features = Concatenate(axis=-1)([image_flat])\n",
    "        # Flatten the time-distributed sequence\n",
    "        flattened_features = Flatten()(combined_image_features)\n",
    "        image_output = Dense(3, activation='softmax')(flattened_features)\n",
    "        image_model = Model(inputs=image_input, outputs=image_output, name=\"image_classifier\")\n",
    "        image_model.compile(optimizer='adam', loss='categorical_crossentropy', metrics=['accuracy'])\n",
    "        \n",
    "        return image_model\n",
    "      \n",
    "    def build_classifier(self):\n",
    "        self.tabular_model = self.tabular_classifier()\n",
    "        self.image_model = self.image_classifier()\n",
    "\n",
    "        # Combine the feature vectors using concatenation\n",
    "        combined_features = Concatenate()([self.tabular_model.output, self.image_model.output])\n",
    "\n",
    "        # Fusion Layer: You can add additional layers here if needed\n",
    "        fusion_layer = Dense(128, activation='sigmoid')(combined_features)\n",
    "\n",
    "        # Output Layer for binary classification\n",
    "        output_layer = Dense(3, activation='softmax')(fusion_layer)\n",
    "\n",
    "        # Create the siamese network\n",
    "        self.multi_modal_model = Model(inputs=[self.tabular_model.input, self.image_model.input], outputs=output_layer, name=\"dimentia_classifier\")\n",
    "\n",
    "        # Compile the model\n",
    "        self.multi_modal_model.compile(optimizer='nadam', loss='categorical_crossentropy', metrics=['accuracy'])\n"
   ]
  },
  {
   "cell_type": "code",
   "execution_count": 17,
   "id": "e1a3859a",
   "metadata": {},
   "outputs": [
    {
     "name": "stdout",
     "output_type": "stream",
     "text": [
      "Model: \"tabular_classifier\"\n",
      "_________________________________________________________________\n",
      " Layer (type)                Output Shape              Param #   \n",
      "=================================================================\n",
      " lstm (LSTM)                 (None, 256)               272384    \n",
      "                                                                 \n",
      " dense (Dense)               (None, 3)                 771       \n",
      "                                                                 \n",
      "=================================================================\n",
      "Total params: 273,155\n",
      "Trainable params: 273,155\n",
      "Non-trainable params: 0\n",
      "_________________________________________________________________\n",
      "Model: \"image_classifier\"\n",
      "_________________________________________________________________\n",
      " Layer (type)                Output Shape              Param #   \n",
      "=================================================================\n",
      " input_1 (InputLayer)        [(None, 4, 200, 200, 3)]  0         \n",
      "                                                                 \n",
      " time_distributed (TimeDistr  (None, 4, 200, 200, 128)  512      \n",
      " ibuted)                                                         \n",
      "                                                                 \n",
      " time_distributed_1 (TimeDis  (None, 4, 100, 100, 128)  0        \n",
      " tributed)                                                       \n",
      "                                                                 \n",
      " time_distributed_2 (TimeDis  (None, 4, 100, 100, 256)  33024    \n",
      " tributed)                                                       \n",
      "                                                                 \n",
      " time_distributed_3 (TimeDis  (None, 4, 50, 50, 256)   0         \n",
      " tributed)                                                       \n",
      "                                                                 \n",
      " time_distributed_4 (TimeDis  (None, 4, 640000)        0         \n",
      " tributed)                                                       \n",
      "                                                                 \n",
      " concatenate (Concatenate)   (None, 4, 640000)         0         \n",
      "                                                                 \n",
      " flatten_1 (Flatten)         (None, 2560000)           0         \n",
      "                                                                 \n",
      " dense_1 (Dense)             (None, 3)                 7680003   \n",
      "                                                                 \n",
      "=================================================================\n",
      "Total params: 7,713,539\n",
      "Trainable params: 7,713,539\n",
      "Non-trainable params: 0\n",
      "_________________________________________________________________\n"
     ]
    }
   ],
   "source": [
    "al_classifier = classifier(len(selected_features), desired_shape, time_step)\n",
    "al_classifier.build_classifier()\n",
    "al_classifier.tabular_model.summary()\n",
    "al_classifier.image_model.summary()"
   ]
  },
  {
   "cell_type": "code",
   "execution_count": 18,
   "id": "18e9af12",
   "metadata": {},
   "outputs": [
    {
     "name": "stdout",
     "output_type": "stream",
     "text": [
      "Model: \"dimentia_classifier\"\n",
      "__________________________________________________________________________________________________\n",
      " Layer (type)                   Output Shape         Param #     Connected to                     \n",
      "==================================================================================================\n",
      " input_1 (InputLayer)           [(None, 4, 200, 200  0           []                               \n",
      "                                , 3)]                                                             \n",
      "                                                                                                  \n",
      " time_distributed (TimeDistribu  (None, 4, 200, 200,  512        ['input_1[0][0]']                \n",
      " ted)                            128)                                                             \n",
      "                                                                                                  \n",
      " time_distributed_1 (TimeDistri  (None, 4, 100, 100,  0          ['time_distributed[0][0]']       \n",
      " buted)                          128)                                                             \n",
      "                                                                                                  \n",
      " time_distributed_2 (TimeDistri  (None, 4, 100, 100,  33024      ['time_distributed_1[0][0]']     \n",
      " buted)                          256)                                                             \n",
      "                                                                                                  \n",
      " time_distributed_3 (TimeDistri  (None, 4, 50, 50, 2  0          ['time_distributed_2[0][0]']     \n",
      " buted)                         56)                                                               \n",
      "                                                                                                  \n",
      " time_distributed_4 (TimeDistri  (None, 4, 640000)   0           ['time_distributed_3[0][0]']     \n",
      " buted)                                                                                           \n",
      "                                                                                                  \n",
      " lstm_input (InputLayer)        [(None, 4, 9)]       0           []                               \n",
      "                                                                                                  \n",
      " concatenate (Concatenate)      (None, 4, 640000)    0           ['time_distributed_4[0][0]']     \n",
      "                                                                                                  \n",
      " lstm (LSTM)                    (None, 256)          272384      ['lstm_input[0][0]']             \n",
      "                                                                                                  \n",
      " flatten_1 (Flatten)            (None, 2560000)      0           ['concatenate[0][0]']            \n",
      "                                                                                                  \n",
      " dense (Dense)                  (None, 3)            771         ['lstm[0][0]']                   \n",
      "                                                                                                  \n",
      " dense_1 (Dense)                (None, 3)            7680003     ['flatten_1[0][0]']              \n",
      "                                                                                                  \n",
      " concatenate_1 (Concatenate)    (None, 6)            0           ['dense[0][0]',                  \n",
      "                                                                  'dense_1[0][0]']                \n",
      "                                                                                                  \n",
      " dense_2 (Dense)                (None, 128)          896         ['concatenate_1[0][0]']          \n",
      "                                                                                                  \n",
      " dense_3 (Dense)                (None, 3)            387         ['dense_2[0][0]']                \n",
      "                                                                                                  \n",
      "==================================================================================================\n",
      "Total params: 7,987,977\n",
      "Trainable params: 7,987,977\n",
      "Non-trainable params: 0\n",
      "__________________________________________________________________________________________________\n"
     ]
    }
   ],
   "source": [
    "al_classifier.multi_modal_model.summary()"
   ]
  },
  {
   "cell_type": "code",
   "execution_count": 19,
   "id": "2655a2d3",
   "metadata": {},
   "outputs": [
    {
     "name": "stdout",
     "output_type": "stream",
     "text": [
      "X_tabular_train shape: (297, 4, 9)\n",
      "X_tabular_test shape: (75, 4, 9)\n",
      "X_images_train shape: (297, 4, 200, 200, 3)\n",
      "X_images_test shape: (75, 4, 200, 200, 3)\n",
      "y_train shape: (297, 3)\n",
      "y_test shape: (75, 3)\n"
     ]
    }
   ],
   "source": [
    "from sklearn.model_selection import train_test_split\n",
    "\n",
    "# Assuming X_tabular, X_images, and y_reshaped are NumPy arrays\n",
    "\n",
    "# Split the data into training and testing sets while maintaining the correspondence\n",
    "X_tabular_train, X_tabular_test, X_images_train, X_images_test, y_train, y_test = train_test_split(\n",
    "    X_reshaped, image_data, y_encoded, test_size=0.2, random_state=42\n",
    ")\n",
    "\n",
    "# Print the shapes of the resulting arrays\n",
    "print(\"X_tabular_train shape:\", X_tabular_train.shape)\n",
    "print(\"X_tabular_test shape:\", X_tabular_test.shape)\n",
    "print(\"X_images_train shape:\", X_images_train.shape)\n",
    "print(\"X_images_test shape:\", X_images_test.shape)\n",
    "print(\"y_train shape:\", y_train.shape)\n",
    "print(\"y_test shape:\", y_test.shape)"
   ]
  },
  {
   "cell_type": "code",
   "execution_count": 20,
   "id": "fbcd4684",
   "metadata": {},
   "outputs": [],
   "source": [
    "# # Enable eager execution\n",
    "# tf.config.run_functions_eagerly(True)"
   ]
  },
  {
   "cell_type": "code",
   "execution_count": 21,
   "id": "a4340566",
   "metadata": {},
   "outputs": [
    {
     "name": "stdout",
     "output_type": "stream",
     "text": [
      "Epoch 1/200\n",
      "10/10 [==============================] - 102s 10s/step - loss: 1.4007 - accuracy: 0.1347 - val_loss: 1.0707 - val_accuracy: 0.3867\n",
      "Epoch 2/200\n",
      "10/10 [==============================] - 109s 11s/step - loss: 0.9718 - accuracy: 0.5017 - val_loss: 1.0507 - val_accuracy: 0.4000\n",
      "Epoch 3/200\n",
      "10/10 [==============================] - 120s 12s/step - loss: 0.9138 - accuracy: 0.5253 - val_loss: 1.0756 - val_accuracy: 0.3867\n",
      "Epoch 4/200\n",
      "10/10 [==============================] - 121s 12s/step - loss: 0.9009 - accuracy: 0.5387 - val_loss: 1.0652 - val_accuracy: 0.4267\n",
      "Epoch 5/200\n",
      "10/10 [==============================] - 147s 15s/step - loss: 0.8863 - accuracy: 0.5589 - val_loss: 1.0540 - val_accuracy: 0.4800\n",
      "Epoch 6/200\n",
      "10/10 [==============================] - 135s 13s/step - loss: 0.8497 - accuracy: 0.6263 - val_loss: 1.0718 - val_accuracy: 0.4933\n",
      "Epoch 7/200\n",
      "10/10 [==============================] - 159s 16s/step - loss: 0.8651 - accuracy: 0.5993 - val_loss: 1.0854 - val_accuracy: 0.5200\n",
      "Epoch 8/200\n",
      "10/10 [==============================] - 146s 15s/step - loss: 0.8815 - accuracy: 0.5488 - val_loss: 1.1586 - val_accuracy: 0.4400\n",
      "Epoch 9/200\n",
      "10/10 [==============================] - 161s 16s/step - loss: 0.8223 - accuracy: 0.6397 - val_loss: 1.0841 - val_accuracy: 0.4933\n",
      "Epoch 10/200\n",
      "10/10 [==============================] - 161s 16s/step - loss: 0.8302 - accuracy: 0.6229 - val_loss: 1.0639 - val_accuracy: 0.5200\n",
      "Epoch 11/200\n",
      "10/10 [==============================] - 158s 16s/step - loss: 0.8179 - accuracy: 0.6162 - val_loss: 0.9823 - val_accuracy: 0.5067\n",
      "Epoch 12/200\n",
      "10/10 [==============================] - 155s 15s/step - loss: 0.8072 - accuracy: 0.6498 - val_loss: 0.9606 - val_accuracy: 0.5733\n",
      "Epoch 13/200\n",
      "10/10 [==============================] - 135s 13s/step - loss: 0.8039 - accuracy: 0.6599 - val_loss: 1.2751 - val_accuracy: 0.4133\n",
      "Epoch 14/200\n",
      "10/10 [==============================] - 129s 13s/step - loss: 0.8008 - accuracy: 0.6599 - val_loss: 1.1558 - val_accuracy: 0.4667\n",
      "Epoch 15/200\n",
      "10/10 [==============================] - 126s 13s/step - loss: 0.8066 - accuracy: 0.6296 - val_loss: 1.0772 - val_accuracy: 0.5200\n",
      "Epoch 16/200\n",
      "10/10 [==============================] - 142s 14s/step - loss: 0.7835 - accuracy: 0.6700 - val_loss: 1.1298 - val_accuracy: 0.5067\n",
      "Epoch 17/200\n",
      "10/10 [==============================] - 141s 14s/step - loss: 0.7918 - accuracy: 0.6599 - val_loss: 1.1046 - val_accuracy: 0.5067\n",
      "Epoch 18/200\n",
      "10/10 [==============================] - 146s 15s/step - loss: 0.8203 - accuracy: 0.6296 - val_loss: 1.0572 - val_accuracy: 0.5600\n",
      "Epoch 19/200\n",
      "10/10 [==============================] - 144s 14s/step - loss: 0.7788 - accuracy: 0.6633 - val_loss: 1.2898 - val_accuracy: 0.4000\n",
      "Epoch 20/200\n",
      "10/10 [==============================] - 148s 15s/step - loss: 0.7940 - accuracy: 0.6768 - val_loss: 1.1385 - val_accuracy: 0.4800\n",
      "Epoch 21/200\n",
      "10/10 [==============================] - 140s 14s/step - loss: 0.7748 - accuracy: 0.6835 - val_loss: 0.9915 - val_accuracy: 0.5600\n",
      "Epoch 22/200\n",
      "10/10 [==============================] - 121s 12s/step - loss: 0.7613 - accuracy: 0.6734 - val_loss: 0.9580 - val_accuracy: 0.5867\n",
      "Epoch 23/200\n",
      "10/10 [==============================] - 97s 10s/step - loss: 0.8130 - accuracy: 0.6330 - val_loss: 1.0579 - val_accuracy: 0.5333\n",
      "Epoch 24/200\n",
      "10/10 [==============================] - 105s 11s/step - loss: 0.7439 - accuracy: 0.6936 - val_loss: 1.1019 - val_accuracy: 0.4667\n",
      "Epoch 25/200\n",
      "10/10 [==============================] - 107s 11s/step - loss: 0.7338 - accuracy: 0.7003 - val_loss: 0.9531 - val_accuracy: 0.5867\n",
      "Epoch 26/200\n",
      "10/10 [==============================] - 104s 10s/step - loss: 0.7538 - accuracy: 0.6869 - val_loss: 0.9774 - val_accuracy: 0.5733\n",
      "Epoch 27/200\n",
      "10/10 [==============================] - 103s 10s/step - loss: 0.7118 - accuracy: 0.6970 - val_loss: 0.8898 - val_accuracy: 0.6667\n",
      "Epoch 28/200\n",
      "10/10 [==============================] - 103s 10s/step - loss: 0.6864 - accuracy: 0.7138 - val_loss: 1.2402 - val_accuracy: 0.4933\n",
      "Epoch 29/200\n",
      "10/10 [==============================] - 93s 9s/step - loss: 0.7663 - accuracy: 0.7003 - val_loss: 0.9369 - val_accuracy: 0.6000\n",
      "Epoch 30/200\n",
      "10/10 [==============================] - 102s 10s/step - loss: 0.7274 - accuracy: 0.6936 - val_loss: 0.9459 - val_accuracy: 0.6000\n",
      "Epoch 31/200\n",
      "10/10 [==============================] - 99s 10s/step - loss: 0.7339 - accuracy: 0.6936 - val_loss: 1.2135 - val_accuracy: 0.4667\n",
      "Epoch 32/200\n",
      "10/10 [==============================] - 95s 10s/step - loss: 0.6805 - accuracy: 0.7374 - val_loss: 1.2677 - val_accuracy: 0.4267\n",
      "Epoch 33/200\n",
      "10/10 [==============================] - 103s 10s/step - loss: 0.7185 - accuracy: 0.6734 - val_loss: 0.9819 - val_accuracy: 0.6133\n",
      "Epoch 34/200\n",
      "10/10 [==============================] - 100s 10s/step - loss: 0.6882 - accuracy: 0.7138 - val_loss: 0.8686 - val_accuracy: 0.6533\n",
      "Epoch 35/200\n",
      "10/10 [==============================] - 100s 10s/step - loss: 0.6845 - accuracy: 0.7407 - val_loss: 0.8899 - val_accuracy: 0.6000\n",
      "Epoch 36/200\n",
      "10/10 [==============================] - 98s 10s/step - loss: 0.6576 - accuracy: 0.7643 - val_loss: 0.8682 - val_accuracy: 0.6800\n",
      "Epoch 37/200\n",
      "10/10 [==============================] - 104s 10s/step - loss: 0.6926 - accuracy: 0.7273 - val_loss: 0.8994 - val_accuracy: 0.6133\n",
      "Epoch 38/200\n",
      "10/10 [==============================] - 111s 11s/step - loss: 0.7210 - accuracy: 0.7003 - val_loss: 1.4712 - val_accuracy: 0.4267\n",
      "Epoch 39/200\n",
      "10/10 [==============================] - 117s 12s/step - loss: 0.6864 - accuracy: 0.7340 - val_loss: 0.8926 - val_accuracy: 0.6400\n",
      "Epoch 40/200\n",
      "10/10 [==============================] - 113s 11s/step - loss: 0.6473 - accuracy: 0.7407 - val_loss: 1.0814 - val_accuracy: 0.5200\n",
      "Epoch 41/200\n",
      "10/10 [==============================] - 98s 10s/step - loss: 0.6562 - accuracy: 0.7407 - val_loss: 0.9252 - val_accuracy: 0.6000\n",
      "Epoch 42/200\n",
      "10/10 [==============================] - 99s 10s/step - loss: 0.6295 - accuracy: 0.7508 - val_loss: 0.9740 - val_accuracy: 0.5600\n",
      "Epoch 43/200\n",
      "10/10 [==============================] - 102s 10s/step - loss: 0.5947 - accuracy: 0.7710 - val_loss: 0.7364 - val_accuracy: 0.7067\n",
      "Epoch 44/200\n",
      "10/10 [==============================] - 109s 11s/step - loss: 0.6455 - accuracy: 0.7340 - val_loss: 0.8433 - val_accuracy: 0.6800\n",
      "Epoch 45/200\n",
      "10/10 [==============================] - 101s 10s/step - loss: 0.6233 - accuracy: 0.7710 - val_loss: 0.8744 - val_accuracy: 0.6400\n",
      "Epoch 46/200\n",
      "10/10 [==============================] - 101s 10s/step - loss: 0.5821 - accuracy: 0.7811 - val_loss: 1.3128 - val_accuracy: 0.4000\n",
      "Epoch 47/200\n",
      "10/10 [==============================] - 91s 9s/step - loss: 0.6299 - accuracy: 0.7475 - val_loss: 0.7971 - val_accuracy: 0.6800\n",
      "Epoch 48/200\n",
      "10/10 [==============================] - 100s 10s/step - loss: 0.6214 - accuracy: 0.7576 - val_loss: 0.7642 - val_accuracy: 0.6933\n",
      "Epoch 49/200\n",
      "10/10 [==============================] - 91s 9s/step - loss: 0.5733 - accuracy: 0.7811 - val_loss: 0.7260 - val_accuracy: 0.7200\n",
      "Epoch 50/200\n",
      "10/10 [==============================] - 93s 9s/step - loss: 0.6070 - accuracy: 0.7811 - val_loss: 0.8531 - val_accuracy: 0.6667\n",
      "Epoch 51/200\n",
      "10/10 [==============================] - 98s 10s/step - loss: 0.6477 - accuracy: 0.7340 - val_loss: 0.9721 - val_accuracy: 0.6267\n",
      "Epoch 52/200\n",
      "10/10 [==============================] - 97s 10s/step - loss: 0.6210 - accuracy: 0.7811 - val_loss: 0.7205 - val_accuracy: 0.6933\n",
      "Epoch 53/200\n",
      "10/10 [==============================] - 99s 10s/step - loss: 0.5587 - accuracy: 0.7946 - val_loss: 0.8064 - val_accuracy: 0.6800\n",
      "Epoch 54/200\n",
      "10/10 [==============================] - 101s 10s/step - loss: 0.6106 - accuracy: 0.7609 - val_loss: 0.8093 - val_accuracy: 0.6800\n",
      "Epoch 55/200\n",
      "10/10 [==============================] - 103s 10s/step - loss: 0.5779 - accuracy: 0.7946 - val_loss: 0.8372 - val_accuracy: 0.6133\n",
      "Epoch 56/200\n",
      "10/10 [==============================] - 101s 10s/step - loss: 0.6567 - accuracy: 0.7205 - val_loss: 1.0541 - val_accuracy: 0.5333\n",
      "Epoch 57/200\n",
      "10/10 [==============================] - 100s 10s/step - loss: 0.5963 - accuracy: 0.7744 - val_loss: 0.7548 - val_accuracy: 0.7067\n",
      "Epoch 58/200\n"
     ]
    },
    {
     "name": "stdout",
     "output_type": "stream",
     "text": [
      "10/10 [==============================] - 96s 10s/step - loss: 0.5816 - accuracy: 0.7980 - val_loss: 1.1718 - val_accuracy: 0.4933\n",
      "Epoch 59/200\n",
      "10/10 [==============================] - 98s 10s/step - loss: 0.5902 - accuracy: 0.7710 - val_loss: 0.7670 - val_accuracy: 0.6800\n",
      "Epoch 60/200\n",
      "10/10 [==============================] - 103s 10s/step - loss: 0.5955 - accuracy: 0.7912 - val_loss: 0.6870 - val_accuracy: 0.7467\n",
      "Epoch 61/200\n",
      "10/10 [==============================] - 102s 10s/step - loss: 0.5857 - accuracy: 0.7980 - val_loss: 0.9830 - val_accuracy: 0.6133\n",
      "Epoch 62/200\n",
      "10/10 [==============================] - 93s 9s/step - loss: 0.6437 - accuracy: 0.7441 - val_loss: 0.7382 - val_accuracy: 0.7200\n",
      "Epoch 63/200\n",
      "10/10 [==============================] - 98s 10s/step - loss: 0.5145 - accuracy: 0.8047 - val_loss: 0.9429 - val_accuracy: 0.6400\n",
      "Epoch 64/200\n",
      "10/10 [==============================] - 101s 10s/step - loss: 0.5646 - accuracy: 0.7710 - val_loss: 1.0922 - val_accuracy: 0.5467\n",
      "Epoch 65/200\n",
      "10/10 [==============================] - 94s 9s/step - loss: 0.6202 - accuracy: 0.7576 - val_loss: 0.8999 - val_accuracy: 0.6533\n",
      "Epoch 66/200\n",
      "10/10 [==============================] - 92s 9s/step - loss: 0.5136 - accuracy: 0.8013 - val_loss: 0.6995 - val_accuracy: 0.7467\n",
      "Epoch 67/200\n",
      "10/10 [==============================] - 91s 9s/step - loss: 0.5308 - accuracy: 0.7946 - val_loss: 0.9230 - val_accuracy: 0.5867\n",
      "Epoch 68/200\n",
      "10/10 [==============================] - 91s 9s/step - loss: 0.5876 - accuracy: 0.7744 - val_loss: 0.7470 - val_accuracy: 0.7200\n",
      "Epoch 69/200\n",
      "10/10 [==============================] - 98s 10s/step - loss: 0.5252 - accuracy: 0.8114 - val_loss: 0.7301 - val_accuracy: 0.7067\n",
      "Epoch 70/200\n",
      "10/10 [==============================] - 97s 10s/step - loss: 0.5395 - accuracy: 0.7912 - val_loss: 0.7346 - val_accuracy: 0.7200\n",
      "Epoch 71/200\n",
      "10/10 [==============================] - 108s 11s/step - loss: 0.5940 - accuracy: 0.7677 - val_loss: 0.8354 - val_accuracy: 0.6933\n",
      "Epoch 72/200\n",
      "10/10 [==============================] - 98s 10s/step - loss: 0.5621 - accuracy: 0.7845 - val_loss: 0.7928 - val_accuracy: 0.6667\n",
      "Epoch 73/200\n",
      "10/10 [==============================] - 93s 9s/step - loss: 0.5537 - accuracy: 0.8081 - val_loss: 0.7428 - val_accuracy: 0.7067\n",
      "Epoch 74/200\n",
      "10/10 [==============================] - 93s 9s/step - loss: 0.5392 - accuracy: 0.7912 - val_loss: 0.8474 - val_accuracy: 0.6667\n",
      "Epoch 75/200\n",
      "10/10 [==============================] - 99s 10s/step - loss: 0.4948 - accuracy: 0.8114 - val_loss: 1.0202 - val_accuracy: 0.6133\n",
      "Epoch 76/200\n",
      "10/10 [==============================] - 92s 9s/step - loss: 0.5324 - accuracy: 0.7811 - val_loss: 0.9750 - val_accuracy: 0.5867\n",
      "Epoch 77/200\n",
      "10/10 [==============================] - 94s 9s/step - loss: 0.4857 - accuracy: 0.8283 - val_loss: 0.9754 - val_accuracy: 0.6000\n",
      "Epoch 78/200\n",
      "10/10 [==============================] - 98s 10s/step - loss: 0.5360 - accuracy: 0.7879 - val_loss: 0.7962 - val_accuracy: 0.6533\n",
      "Epoch 79/200\n",
      "10/10 [==============================] - 101s 10s/step - loss: 0.5120 - accuracy: 0.8013 - val_loss: 0.8914 - val_accuracy: 0.6667\n",
      "Epoch 80/200\n",
      "10/10 [==============================] - 98s 10s/step - loss: 0.4572 - accuracy: 0.8283 - val_loss: 0.7534 - val_accuracy: 0.6667\n",
      "Epoch 81/200\n",
      "10/10 [==============================] - 93s 9s/step - loss: 0.4779 - accuracy: 0.8182 - val_loss: 1.4160 - val_accuracy: 0.5467\n",
      "Epoch 82/200\n",
      "10/10 [==============================] - 90s 9s/step - loss: 0.6007 - accuracy: 0.7879 - val_loss: 0.8332 - val_accuracy: 0.6533\n",
      "Epoch 83/200\n",
      "10/10 [==============================] - 94s 9s/step - loss: 0.5011 - accuracy: 0.7980 - val_loss: 0.7927 - val_accuracy: 0.6800\n",
      "Epoch 84/200\n",
      "10/10 [==============================] - 99s 10s/step - loss: 0.4257 - accuracy: 0.8552 - val_loss: 0.9679 - val_accuracy: 0.6000\n",
      "Epoch 85/200\n",
      "10/10 [==============================] - 93s 9s/step - loss: 0.4924 - accuracy: 0.8081 - val_loss: 0.6849 - val_accuracy: 0.7067\n",
      "Epoch 86/200\n",
      "10/10 [==============================] - 99s 10s/step - loss: 0.4378 - accuracy: 0.8418 - val_loss: 0.6869 - val_accuracy: 0.7467\n",
      "Epoch 87/200\n",
      "10/10 [==============================] - 108s 11s/step - loss: 0.4391 - accuracy: 0.8384 - val_loss: 0.8382 - val_accuracy: 0.6533\n",
      "Epoch 88/200\n",
      "10/10 [==============================] - 110s 11s/step - loss: 0.4591 - accuracy: 0.8350 - val_loss: 0.6635 - val_accuracy: 0.7467\n",
      "Epoch 89/200\n",
      "10/10 [==============================] - 102s 10s/step - loss: 0.3949 - accuracy: 0.8788 - val_loss: 0.9266 - val_accuracy: 0.6133\n",
      "Epoch 90/200\n",
      "10/10 [==============================] - 100s 10s/step - loss: 0.5358 - accuracy: 0.8047 - val_loss: 1.0306 - val_accuracy: 0.5867\n",
      "Epoch 91/200\n",
      "10/10 [==============================] - 94s 9s/step - loss: 0.4459 - accuracy: 0.8451 - val_loss: 0.6037 - val_accuracy: 0.7867\n",
      "Epoch 92/200\n",
      "10/10 [==============================] - 102s 10s/step - loss: 0.3917 - accuracy: 0.8754 - val_loss: 0.6672 - val_accuracy: 0.7733\n",
      "Epoch 93/200\n",
      "10/10 [==============================] - 97s 10s/step - loss: 0.4407 - accuracy: 0.8418 - val_loss: 0.5456 - val_accuracy: 0.8133\n",
      "Epoch 94/200\n",
      "10/10 [==============================] - 103s 10s/step - loss: 0.4329 - accuracy: 0.8653 - val_loss: 0.6645 - val_accuracy: 0.7200\n",
      "Epoch 95/200\n",
      "10/10 [==============================] - 100s 10s/step - loss: 0.4709 - accuracy: 0.8451 - val_loss: 0.6465 - val_accuracy: 0.7067\n",
      "Epoch 96/200\n",
      "10/10 [==============================] - 96s 10s/step - loss: 0.4224 - accuracy: 0.8586 - val_loss: 0.5465 - val_accuracy: 0.8000\n",
      "Epoch 97/200\n",
      "10/10 [==============================] - 95s 10s/step - loss: 0.4239 - accuracy: 0.8418 - val_loss: 0.7160 - val_accuracy: 0.8000\n",
      "Epoch 98/200\n",
      "10/10 [==============================] - 97s 10s/step - loss: 0.4405 - accuracy: 0.8485 - val_loss: 1.0924 - val_accuracy: 0.5733\n",
      "Epoch 99/200\n",
      "10/10 [==============================] - 101s 10s/step - loss: 0.5345 - accuracy: 0.7778 - val_loss: 0.6448 - val_accuracy: 0.7333\n",
      "Epoch 100/200\n",
      "10/10 [==============================] - 96s 9s/step - loss: 0.3758 - accuracy: 0.8889 - val_loss: 0.7903 - val_accuracy: 0.6933\n",
      "Epoch 101/200\n",
      "10/10 [==============================] - 97s 10s/step - loss: 0.4595 - accuracy: 0.8249 - val_loss: 0.7680 - val_accuracy: 0.7467\n",
      "Epoch 102/200\n",
      "10/10 [==============================] - 93s 9s/step - loss: 0.3950 - accuracy: 0.8855 - val_loss: 0.6261 - val_accuracy: 0.7867\n",
      "Epoch 103/200\n",
      "10/10 [==============================] - 95s 9s/step - loss: 0.4213 - accuracy: 0.8620 - val_loss: 0.6147 - val_accuracy: 0.7467\n",
      "Epoch 104/200\n",
      "10/10 [==============================] - 89s 9s/step - loss: 0.3877 - accuracy: 0.8687 - val_loss: 0.6012 - val_accuracy: 0.7867\n",
      "Epoch 105/200\n",
      "10/10 [==============================] - 92s 9s/step - loss: 0.3277 - accuracy: 0.9057 - val_loss: 0.6618 - val_accuracy: 0.7467\n",
      "Epoch 106/200\n",
      "10/10 [==============================] - 96s 10s/step - loss: 0.3591 - accuracy: 0.8822 - val_loss: 1.0637 - val_accuracy: 0.6667\n",
      "Epoch 107/200\n",
      "10/10 [==============================] - 108s 11s/step - loss: 0.4512 - accuracy: 0.8384 - val_loss: 0.6758 - val_accuracy: 0.7467\n",
      "Epoch 108/200\n",
      "10/10 [==============================] - 98s 10s/step - loss: 0.4161 - accuracy: 0.8552 - val_loss: 0.6770 - val_accuracy: 0.7467\n",
      "Epoch 109/200\n",
      "10/10 [==============================] - 102s 10s/step - loss: 0.4212 - accuracy: 0.8519 - val_loss: 0.6001 - val_accuracy: 0.7867\n",
      "Epoch 110/200\n",
      "10/10 [==============================] - 93s 9s/step - loss: 0.3290 - accuracy: 0.8956 - val_loss: 0.5265 - val_accuracy: 0.7867\n",
      "Epoch 111/200\n",
      "10/10 [==============================] - 100s 10s/step - loss: 0.4415 - accuracy: 0.8519 - val_loss: 0.6713 - val_accuracy: 0.7733\n",
      "Epoch 112/200\n",
      "10/10 [==============================] - 103s 10s/step - loss: 0.3821 - accuracy: 0.8687 - val_loss: 0.6977 - val_accuracy: 0.7467\n",
      "Epoch 113/200\n",
      "10/10 [==============================] - 96s 10s/step - loss: 0.3450 - accuracy: 0.8923 - val_loss: 0.5491 - val_accuracy: 0.8000\n",
      "Epoch 114/200\n",
      "10/10 [==============================] - 101s 10s/step - loss: 0.3358 - accuracy: 0.8923 - val_loss: 0.5904 - val_accuracy: 0.7867\n",
      "Epoch 115/200\n"
     ]
    },
    {
     "name": "stdout",
     "output_type": "stream",
     "text": [
      "10/10 [==============================] - 108s 11s/step - loss: 0.4261 - accuracy: 0.8721 - val_loss: 0.5738 - val_accuracy: 0.7867\n",
      "Epoch 116/200\n",
      "10/10 [==============================] - 98s 10s/step - loss: 0.3278 - accuracy: 0.8923 - val_loss: 0.5110 - val_accuracy: 0.7867\n",
      "Epoch 117/200\n",
      "10/10 [==============================] - 93s 9s/step - loss: 0.3711 - accuracy: 0.8721 - val_loss: 0.5156 - val_accuracy: 0.8267\n",
      "Epoch 118/200\n",
      "10/10 [==============================] - 103s 10s/step - loss: 0.3478 - accuracy: 0.8687 - val_loss: 0.8904 - val_accuracy: 0.7067\n",
      "Epoch 119/200\n",
      "10/10 [==============================] - 105s 10s/step - loss: 0.5200 - accuracy: 0.8081 - val_loss: 0.6073 - val_accuracy: 0.7733\n",
      "Epoch 120/200\n",
      "10/10 [==============================] - 106s 11s/step - loss: 0.4071 - accuracy: 0.8721 - val_loss: 0.8936 - val_accuracy: 0.6800\n",
      "Epoch 121/200\n",
      "10/10 [==============================] - 111s 11s/step - loss: 0.4422 - accuracy: 0.8485 - val_loss: 0.8851 - val_accuracy: 0.6533\n",
      "Epoch 122/200\n",
      "10/10 [==============================] - 103s 10s/step - loss: 0.4145 - accuracy: 0.8620 - val_loss: 0.6228 - val_accuracy: 0.7467\n",
      "Epoch 123/200\n",
      "10/10 [==============================] - 106s 11s/step - loss: 0.3277 - accuracy: 0.8855 - val_loss: 0.6277 - val_accuracy: 0.8133\n",
      "Epoch 124/200\n",
      "10/10 [==============================] - 108s 11s/step - loss: 0.3983 - accuracy: 0.8620 - val_loss: 0.9865 - val_accuracy: 0.6667\n",
      "Epoch 125/200\n",
      "10/10 [==============================] - 114s 11s/step - loss: 0.4060 - accuracy: 0.8754 - val_loss: 0.6881 - val_accuracy: 0.7600\n",
      "Epoch 126/200\n",
      "10/10 [==============================] - 130s 13s/step - loss: 0.3392 - accuracy: 0.8855 - val_loss: 0.5914 - val_accuracy: 0.7867\n",
      "Epoch 127/200\n",
      "10/10 [==============================] - 124s 12s/step - loss: 0.3440 - accuracy: 0.8956 - val_loss: 0.6905 - val_accuracy: 0.7600\n",
      "Epoch 128/200\n",
      "10/10 [==============================] - 123s 12s/step - loss: 0.3973 - accuracy: 0.8620 - val_loss: 0.6393 - val_accuracy: 0.7333\n",
      "Epoch 129/200\n",
      "10/10 [==============================] - 125s 12s/step - loss: 0.4192 - accuracy: 0.8485 - val_loss: 0.5568 - val_accuracy: 0.7867\n",
      "Epoch 130/200\n",
      "10/10 [==============================] - 117s 12s/step - loss: 0.3692 - accuracy: 0.8855 - val_loss: 0.5614 - val_accuracy: 0.7733\n",
      "Epoch 131/200\n",
      "10/10 [==============================] - 106s 11s/step - loss: 0.3759 - accuracy: 0.8653 - val_loss: 0.7506 - val_accuracy: 0.7200\n",
      "Epoch 132/200\n",
      "10/10 [==============================] - 110s 11s/step - loss: 0.3981 - accuracy: 0.8653 - val_loss: 0.5141 - val_accuracy: 0.7867\n",
      "Epoch 133/200\n",
      "10/10 [==============================] - 101s 10s/step - loss: 0.3510 - accuracy: 0.8788 - val_loss: 0.4804 - val_accuracy: 0.8267\n",
      "Epoch 134/200\n",
      "10/10 [==============================] - 104s 10s/step - loss: 0.3214 - accuracy: 0.8956 - val_loss: 0.5053 - val_accuracy: 0.8400\n",
      "Epoch 135/200\n",
      "10/10 [==============================] - 93s 9s/step - loss: 0.3842 - accuracy: 0.8754 - val_loss: 0.8436 - val_accuracy: 0.7200\n",
      "Epoch 136/200\n",
      "10/10 [==============================] - 112s 11s/step - loss: 0.3158 - accuracy: 0.8990 - val_loss: 0.6615 - val_accuracy: 0.7467\n",
      "Epoch 137/200\n",
      "10/10 [==============================] - 105s 11s/step - loss: 0.3975 - accuracy: 0.8687 - val_loss: 0.5439 - val_accuracy: 0.8133\n",
      "Epoch 138/200\n",
      "10/10 [==============================] - 103s 10s/step - loss: 0.3430 - accuracy: 0.8855 - val_loss: 0.5816 - val_accuracy: 0.7867\n",
      "Epoch 139/200\n",
      "10/10 [==============================] - 112s 11s/step - loss: 0.3041 - accuracy: 0.9091 - val_loss: 0.7525 - val_accuracy: 0.7200\n",
      "Epoch 140/200\n",
      "10/10 [==============================] - 115s 12s/step - loss: 0.3744 - accuracy: 0.8721 - val_loss: 0.5520 - val_accuracy: 0.8133\n",
      "Epoch 141/200\n",
      "10/10 [==============================] - 105s 10s/step - loss: 0.4262 - accuracy: 0.8653 - val_loss: 0.5429 - val_accuracy: 0.7867\n",
      "Epoch 142/200\n",
      "10/10 [==============================] - 115s 12s/step - loss: 0.3346 - accuracy: 0.8956 - val_loss: 0.5684 - val_accuracy: 0.7867\n",
      "Epoch 143/200\n",
      "10/10 [==============================] - 95s 9s/step - loss: 0.3658 - accuracy: 0.8586 - val_loss: 0.5953 - val_accuracy: 0.8000\n",
      "Epoch 144/200\n",
      "10/10 [==============================] - 98s 10s/step - loss: 0.2935 - accuracy: 0.9057 - val_loss: 0.5487 - val_accuracy: 0.7867\n",
      "Epoch 145/200\n",
      "10/10 [==============================] - 96s 10s/step - loss: 0.4365 - accuracy: 0.8451 - val_loss: 0.7727 - val_accuracy: 0.7200\n",
      "Epoch 146/200\n",
      "10/10 [==============================] - 103s 10s/step - loss: 0.4483 - accuracy: 0.8586 - val_loss: 0.6720 - val_accuracy: 0.7467\n",
      "Epoch 147/200\n",
      "10/10 [==============================] - 104s 10s/step - loss: 0.4850 - accuracy: 0.8485 - val_loss: 0.6284 - val_accuracy: 0.7733\n",
      "Epoch 148/200\n",
      "10/10 [==============================] - 102s 10s/step - loss: 0.3687 - accuracy: 0.8822 - val_loss: 0.7500 - val_accuracy: 0.7333\n",
      "Epoch 149/200\n",
      "10/10 [==============================] - 95s 10s/step - loss: 0.3245 - accuracy: 0.8956 - val_loss: 0.5010 - val_accuracy: 0.8667\n",
      "Epoch 150/200\n",
      "10/10 [==============================] - 90s 9s/step - loss: 0.3519 - accuracy: 0.8620 - val_loss: 0.5188 - val_accuracy: 0.8133\n",
      "Epoch 151/200\n",
      "10/10 [==============================] - 97s 10s/step - loss: 0.3069 - accuracy: 0.8889 - val_loss: 0.5781 - val_accuracy: 0.8133\n",
      "Epoch 152/200\n",
      "10/10 [==============================] - 94s 9s/step - loss: 0.3253 - accuracy: 0.8990 - val_loss: 0.5330 - val_accuracy: 0.8000\n",
      "Epoch 153/200\n",
      "10/10 [==============================] - 103s 10s/step - loss: 0.3369 - accuracy: 0.8923 - val_loss: 0.4660 - val_accuracy: 0.8533\n",
      "Epoch 154/200\n",
      "10/10 [==============================] - 102s 10s/step - loss: 0.2817 - accuracy: 0.8990 - val_loss: 0.5070 - val_accuracy: 0.8267\n",
      "Epoch 155/200\n",
      "10/10 [==============================] - 102s 10s/step - loss: 0.3195 - accuracy: 0.8923 - val_loss: 0.5305 - val_accuracy: 0.7867\n",
      "Epoch 156/200\n",
      "10/10 [==============================] - 108s 11s/step - loss: 0.3268 - accuracy: 0.8889 - val_loss: 0.4981 - val_accuracy: 0.8400\n",
      "Epoch 157/200\n",
      "10/10 [==============================] - 114s 12s/step - loss: 0.2989 - accuracy: 0.9125 - val_loss: 0.4989 - val_accuracy: 0.8000\n",
      "Epoch 158/200\n",
      "10/10 [==============================] - 114s 11s/step - loss: 0.3555 - accuracy: 0.8754 - val_loss: 0.5486 - val_accuracy: 0.8000\n",
      "Epoch 159/200\n",
      "10/10 [==============================] - 101s 10s/step - loss: 0.3863 - accuracy: 0.8586 - val_loss: 0.4996 - val_accuracy: 0.8133\n",
      "Epoch 160/200\n",
      "10/10 [==============================] - 104s 10s/step - loss: 0.3386 - accuracy: 0.8721 - val_loss: 0.4177 - val_accuracy: 0.8533\n",
      "Epoch 161/200\n",
      "10/10 [==============================] - 98s 10s/step - loss: 0.3798 - accuracy: 0.8687 - val_loss: 0.4823 - val_accuracy: 0.8000\n",
      "Epoch 162/200\n",
      "10/10 [==============================] - 104s 10s/step - loss: 0.3135 - accuracy: 0.8788 - val_loss: 0.4541 - val_accuracy: 0.8000\n",
      "Epoch 163/200\n",
      "10/10 [==============================] - 96s 10s/step - loss: 0.3445 - accuracy: 0.8822 - val_loss: 0.4612 - val_accuracy: 0.8267\n",
      "Epoch 164/200\n",
      "10/10 [==============================] - 94s 9s/step - loss: 0.2863 - accuracy: 0.9057 - val_loss: 0.4844 - val_accuracy: 0.8000\n",
      "Epoch 165/200\n",
      "10/10 [==============================] - 98s 10s/step - loss: 0.3656 - accuracy: 0.8721 - val_loss: 0.7009 - val_accuracy: 0.7200\n",
      "Epoch 166/200\n",
      "10/10 [==============================] - 95s 9s/step - loss: 0.3312 - accuracy: 0.8889 - val_loss: 0.4302 - val_accuracy: 0.8800\n",
      "Epoch 167/200\n",
      "10/10 [==============================] - 93s 9s/step - loss: 0.3356 - accuracy: 0.8889 - val_loss: 0.6440 - val_accuracy: 0.7333\n",
      "Epoch 168/200\n",
      "10/10 [==============================] - 98s 10s/step - loss: 0.3499 - accuracy: 0.8788 - val_loss: 0.5883 - val_accuracy: 0.7733\n",
      "Epoch 169/200\n",
      "10/10 [==============================] - 102s 10s/step - loss: 0.3627 - accuracy: 0.8620 - val_loss: 0.6592 - val_accuracy: 0.7600\n",
      "Epoch 170/200\n",
      "10/10 [==============================] - 97s 10s/step - loss: 0.3327 - accuracy: 0.8923 - val_loss: 0.4804 - val_accuracy: 0.8133\n",
      "Epoch 171/200\n",
      "10/10 [==============================] - 101s 10s/step - loss: 0.3336 - accuracy: 0.8788 - val_loss: 0.4542 - val_accuracy: 0.8400\n"
     ]
    },
    {
     "name": "stdout",
     "output_type": "stream",
     "text": [
      "Epoch 172/200\n",
      "10/10 [==============================] - 112s 11s/step - loss: 0.2936 - accuracy: 0.9158 - val_loss: 0.6612 - val_accuracy: 0.8133\n",
      "Epoch 173/200\n",
      "10/10 [==============================] - 120s 12s/step - loss: 0.2956 - accuracy: 0.9057 - val_loss: 0.5911 - val_accuracy: 0.8267\n",
      "Epoch 174/200\n",
      "10/10 [==============================] - 102s 10s/step - loss: 0.2803 - accuracy: 0.8889 - val_loss: 0.4851 - val_accuracy: 0.8267\n",
      "Epoch 175/200\n",
      "10/10 [==============================] - 93s 9s/step - loss: 0.2759 - accuracy: 0.9192 - val_loss: 0.8226 - val_accuracy: 0.6800\n",
      "Epoch 176/200\n",
      "10/10 [==============================] - 100s 10s/step - loss: 0.3015 - accuracy: 0.8923 - val_loss: 0.5439 - val_accuracy: 0.8267\n",
      "Epoch 177/200\n",
      "10/10 [==============================] - 107s 11s/step - loss: 0.2729 - accuracy: 0.9125 - val_loss: 0.4270 - val_accuracy: 0.8400\n",
      "Epoch 178/200\n",
      "10/10 [==============================] - 109s 11s/step - loss: 0.2439 - accuracy: 0.9327 - val_loss: 0.4868 - val_accuracy: 0.8400\n",
      "Epoch 179/200\n",
      "10/10 [==============================] - 119s 12s/step - loss: 0.3091 - accuracy: 0.8990 - val_loss: 0.8352 - val_accuracy: 0.7333\n",
      "Epoch 180/200\n",
      "10/10 [==============================] - 118s 12s/step - loss: 0.3925 - accuracy: 0.8754 - val_loss: 0.6023 - val_accuracy: 0.7733\n",
      "Epoch 181/200\n",
      "10/10 [==============================] - 130s 13s/step - loss: 0.2893 - accuracy: 0.8990 - val_loss: 0.4506 - val_accuracy: 0.8267\n",
      "Epoch 182/200\n",
      "10/10 [==============================] - 119s 12s/step - loss: 0.2700 - accuracy: 0.9125 - val_loss: 0.3844 - val_accuracy: 0.8533\n",
      "Epoch 183/200\n",
      "10/10 [==============================] - 121s 12s/step - loss: 0.2896 - accuracy: 0.9024 - val_loss: 1.5700 - val_accuracy: 0.5067\n",
      "Epoch 184/200\n",
      "10/10 [==============================] - 115s 11s/step - loss: 0.4184 - accuracy: 0.8552 - val_loss: 0.4184 - val_accuracy: 0.8800\n",
      "Epoch 185/200\n",
      "10/10 [==============================] - 116s 11s/step - loss: 0.2555 - accuracy: 0.9125 - val_loss: 0.6618 - val_accuracy: 0.7733\n",
      "Epoch 186/200\n",
      "10/10 [==============================] - 107s 11s/step - loss: 0.3833 - accuracy: 0.8721 - val_loss: 0.4235 - val_accuracy: 0.8533\n",
      "Epoch 187/200\n",
      "10/10 [==============================] - 98s 10s/step - loss: 0.3346 - accuracy: 0.8754 - val_loss: 0.6965 - val_accuracy: 0.8133\n",
      "Epoch 188/200\n",
      "10/10 [==============================] - 103s 10s/step - loss: 0.3290 - accuracy: 0.8754 - val_loss: 0.4556 - val_accuracy: 0.8667\n",
      "Epoch 189/200\n",
      "10/10 [==============================] - 109s 11s/step - loss: 0.2474 - accuracy: 0.9091 - val_loss: 0.4544 - val_accuracy: 0.8400\n",
      "Epoch 190/200\n",
      "10/10 [==============================] - 107s 11s/step - loss: 0.2904 - accuracy: 0.9024 - val_loss: 0.5059 - val_accuracy: 0.8133\n",
      "Epoch 191/200\n",
      "10/10 [==============================] - 105s 10s/step - loss: 0.3309 - accuracy: 0.8855 - val_loss: 0.4625 - val_accuracy: 0.8267\n",
      "Epoch 192/200\n",
      "10/10 [==============================] - 99s 10s/step - loss: 0.2727 - accuracy: 0.9125 - val_loss: 0.3507 - val_accuracy: 0.8667\n",
      "Epoch 193/200\n",
      "10/10 [==============================] - 96s 10s/step - loss: 0.3410 - accuracy: 0.8721 - val_loss: 0.3956 - val_accuracy: 0.8800\n",
      "Epoch 194/200\n",
      "10/10 [==============================] - 102s 10s/step - loss: 0.2854 - accuracy: 0.9057 - val_loss: 0.3584 - val_accuracy: 0.8800\n",
      "Epoch 195/200\n",
      "10/10 [==============================] - 98s 10s/step - loss: 0.3202 - accuracy: 0.8855 - val_loss: 0.4354 - val_accuracy: 0.8267\n",
      "Epoch 196/200\n",
      "10/10 [==============================] - 95s 9s/step - loss: 0.3323 - accuracy: 0.8956 - val_loss: 0.4062 - val_accuracy: 0.8533\n",
      "Epoch 197/200\n",
      "10/10 [==============================] - 102s 10s/step - loss: 0.3220 - accuracy: 0.8923 - val_loss: 0.3470 - val_accuracy: 0.8933\n",
      "Epoch 198/200\n",
      "10/10 [==============================] - 102s 10s/step - loss: 0.3167 - accuracy: 0.8956 - val_loss: 0.3390 - val_accuracy: 0.8933\n",
      "Epoch 199/200\n",
      "10/10 [==============================] - 101s 10s/step - loss: 0.2351 - accuracy: 0.9226 - val_loss: 0.4085 - val_accuracy: 0.8667\n",
      "Epoch 200/200\n",
      "10/10 [==============================] - 103s 10s/step - loss: 0.3245 - accuracy: 0.8889 - val_loss: 0.3991 - val_accuracy: 0.8800\n"
     ]
    }
   ],
   "source": [
    "# Train the model\n",
    "history = al_classifier.multi_modal_model.fit([X_tabular_train, X_images_train], \n",
    "              y_train,\n",
    "              verbose=1,\n",
    "              use_multiprocessing=True,\n",
    "              workers=32,\n",
    "              validation_data=([X_tabular_test, X_images_test], y_test), \n",
    "              epochs=200)"
   ]
  },
  {
   "cell_type": "markdown",
   "id": "90c8760d",
   "metadata": {},
   "source": [
    "### Save Dimentia Classifier Model"
   ]
  },
  {
   "cell_type": "code",
   "execution_count": 22,
   "id": "5674b4a7",
   "metadata": {},
   "outputs": [
    {
     "name": "stderr",
     "output_type": "stream",
     "text": [
      "WARNING:absl:Found untraced functions such as _jit_compiled_convolution_op, _jit_compiled_convolution_op while saving (showing 2 of 2). These functions will not be directly callable after loading.\n"
     ]
    },
    {
     "name": "stdout",
     "output_type": "stream",
     "text": [
      "INFO:tensorflow:Assets written to: dimentia_detector_v_1\\assets\n"
     ]
    },
    {
     "name": "stderr",
     "output_type": "stream",
     "text": [
      "INFO:tensorflow:Assets written to: dimentia_detector_v_1\\assets\n",
      "WARNING:absl:Found untraced functions such as _jit_compiled_convolution_op, _jit_compiled_convolution_op while saving (showing 2 of 2). These functions will not be directly callable after loading.\n"
     ]
    },
    {
     "name": "stdout",
     "output_type": "stream",
     "text": [
      "INFO:tensorflow:Assets written to: image_detector_v_1\\assets\n"
     ]
    },
    {
     "name": "stderr",
     "output_type": "stream",
     "text": [
      "INFO:tensorflow:Assets written to: image_detector_v_1\\assets\n"
     ]
    },
    {
     "name": "stdout",
     "output_type": "stream",
     "text": [
      "INFO:tensorflow:Assets written to: tabular_detector_v_1\\assets\n"
     ]
    },
    {
     "name": "stderr",
     "output_type": "stream",
     "text": [
      "INFO:tensorflow:Assets written to: tabular_detector_v_1\\assets\n"
     ]
    }
   ],
   "source": [
    "al_classifier.multi_modal_model.save('dimentia_detector_v1.h5')\n",
    "al_classifier.image_model.save('image_detector_v1.h5')\n",
    "al_classifier.tabular_model.save('tabular_detector_v1.h5')\n",
    "al_classifier.multi_modal_model.save('dimentia_detector_v_1', save_format='tf')\n",
    "al_classifier.image_model.save('image_detector_v_1', save_format='tf')\n",
    "al_classifier.tabular_model.save('tabular_detector_v_1', save_format='tf')"
   ]
  },
  {
   "cell_type": "markdown",
   "id": "f9c9ea4b",
   "metadata": {},
   "source": [
    "### Evaluate the model"
   ]
  },
  {
   "cell_type": "code",
   "execution_count": 23,
   "id": "863b5d41",
   "metadata": {},
   "outputs": [
    {
     "name": "stdout",
     "output_type": "stream",
     "text": [
      "10/10 [==============================] - 15s 1s/step - loss: 0.1321 - accuracy: 0.9697\n",
      "3/3 [==============================] - 4s 1s/step - loss: 0.3991 - accuracy: 0.8800\n",
      "Accuracy during training: 96.97% and loss: 0.1321\n",
      "Accuracy during test: 88.0% and loss: 0.3991\n"
     ]
    }
   ],
   "source": [
    "dimentia_train_r3_metric = al_classifier.multi_modal_model.evaluate([X_tabular_train, X_images_train], y_train, use_multiprocessing = True, workers = 32, return_dict=True)\n",
    "dimentia_test_r3_metric = al_classifier.multi_modal_model.evaluate([X_tabular_test, X_images_test], y_test, use_multiprocessing = True, workers=32, return_dict=True)\n",
    "print(f'Accuracy during training: {round(dimentia_train_r3_metric[\"accuracy\"]*100, 2)}% and loss: {round(dimentia_train_r3_metric[\"loss\"], 4)}')\n",
    "print(f'Accuracy during test: {round(dimentia_test_r3_metric[\"accuracy\"]*100, 2)}% and loss: {round(dimentia_test_r3_metric[\"loss\"], 4)}')"
   ]
  },
  {
   "cell_type": "markdown",
   "id": "e5065c68",
   "metadata": {},
   "source": [
    "### Plot Training Performance"
   ]
  },
  {
   "cell_type": "code",
   "execution_count": 24,
   "id": "8fcdbcde",
   "metadata": {},
   "outputs": [
    {
     "data": {
      "image/png": "[encoded data removed]",
      "text/plain": [
       "<Figure size 950x550 with 1 Axes>"
      ]
     },
     "metadata": {},
     "output_type": "display_data"
    }
   ],
   "source": [
    "fig, ax = plt.subplots(1, figsize=(9.5,5.5))\n",
    "plt.plot(range(200), history.history['accuracy'], 'r', label='Dimentia Detection Accuracy')\n",
    "plt.plot(range(200), history.history['val_accuracy'], 'b', label='Dimentia Detection Validation Accuracy')\n",
    "plt.xlabel('Epochs')\n",
    "plt.ylabel('Accuracy')\n",
    "plt.title(\"Plot Training History of Dimentia Detection Model\")\n",
    "plt.legend()\n",
    "plt.show()"
   ]
  },
  {
   "cell_type": "markdown",
   "id": "6386f76c",
   "metadata": {},
   "source": [
    "### Plot Loss Performance"
   ]
  },
  {
   "cell_type": "code",
   "execution_count": 25,
   "id": "0a7844cd",
   "metadata": {},
   "outputs": [
    {
     "data": {
      "image/png": "[encoded data removed]",
      "text/plain": [
       "<Figure size 950x550 with 1 Axes>"
      ]
     },
     "metadata": {},
     "output_type": "display_data"
    }
   ],
   "source": [
    "fig, ax = plt.subplots(1, figsize=(9.5,5.5))\n",
    "plt.plot(range(200), history.history['loss'], 'r', label='Dimentia Detection Loss')\n",
    "plt.plot(range(200), history.history['val_loss'], 'b', label='Dimentia Detection Validation Loss')\n",
    "plt.xlabel('Epochs')\n",
    "plt.ylabel('Accuracy')\n",
    "plt.title(\"Plot Loss History of Dimentia Detection Model\")\n",
    "plt.legend()\n",
    "plt.show()"
   ]
  },
  {
   "cell_type": "code",
   "execution_count": 31,
   "id": "ec19e6b8",
   "metadata": {},
   "outputs": [
    {
     "name": "stdout",
     "output_type": "stream",
     "text": [
      "ROC AUC Scores: 0.9404211188720656\n"
     ]
    }
   ],
   "source": [
    "from sklearn.metrics import roc_auc_score\n",
    "\n",
    "# Assuming y_pred_prob is the predicted probabilities for each class\n",
    "# in a multilabel classification problem\n",
    "\n",
    "# Calculate ROC AUC for each class\n",
    "roc_auc_scores = roc_auc_score(y_test, y_pred_prob, average='macro')  # or 'micro', 'weighted' depending on your requirements\n",
    "\n",
    "print(f'ROC AUC Scores: {roc_auc_scores}')"
   ]
  },
  {
   "cell_type": "code",
   "execution_count": 32,
   "id": "8e0d46bb",
   "metadata": {},
   "outputs": [
    {
     "name": "stdout",
     "output_type": "stream",
     "text": [
      "Precision-Recall AUC Scores: 0.8629832356590166\n"
     ]
    }
   ],
   "source": [
    "from sklearn.metrics import average_precision_score\n",
    "\n",
    "# Assuming y_pred_prob is the predicted probabilities for each class\n",
    "# in a multilabel classification problem\n",
    "\n",
    "# Calculate Precision-Recall AUC for each class\n",
    "pr_auc_scores = average_precision_score(y_test, y_pred_prob, average='macro')  # or 'micro', 'weighted' depending on your requirements\n",
    "\n",
    "print(f'Precision-Recall AUC Scores: {pr_auc_scores}')"
   ]
  },
  {
   "cell_type": "code",
   "execution_count": 33,
   "id": "b2afc9f2",
   "metadata": {},
   "outputs": [
    {
     "name": "stdout",
     "output_type": "stream",
     "text": [
      "3/3 [==============================] - 3s 983ms/step\n",
      "F1 Score: 0.8472222222222223\n",
      "Recall: 0.8133333333333334\n",
      "Precision: 0.8840579710144928\n"
     ]
    }
   ],
   "source": [
    "from sklearn.metrics import f1_score, recall_score, precision_score\n",
    "\n",
    "# Make predictions on the test set\n",
    "y_pred_prob = al_classifier.multi_modal_model.predict([X_tabular_test, X_images_test])\n",
    "\n",
    "# Assuming y_pred_prob is the predicted probabilities for each class\n",
    "# in a multilabel classification problem\n",
    "\n",
    "# Convert probabilities to binary predictions\n",
    "y_pred = (y_pred_prob > 0.5).astype(int)\n",
    "\n",
    "# Calculate and print F1 score, recall, precision\n",
    "f1 = f1_score(y_test, y_pred, average='micro')\n",
    "recall = recall_score(y_test, y_pred, average='micro')\n",
    "precision = precision_score(y_test, y_pred, average='micro')\n",
    "\n",
    "print(f'F1 Score: {f1}')\n",
    "print(f'Recall: {recall}')\n",
    "print(f'Precision: {precision}')\n"
   ]
  }
 ],
 "metadata": {
  "kernelspec": {
   "display_name": "Python 3 (ipykernel)",
   "language": "python",
   "name": "python3"
  },
  "language_info": {
   "codemirror_mode": {
    "name": "ipython",
    "version": 3
   },
   "file_extension": ".py",
   "mimetype": "text/x-python",
   "name": "python",
   "nbconvert_exporter": "python",
   "pygments_lexer": "ipython3",
   "version": "3.11.7"
  },
  "widgets": {
   "application/vnd.jupyter.widget-state+json": {
    "state": {},
    "version_major": 2,
    "version_minor": 0
   }
  }
 },
 "nbformat": 4,
 "nbformat_minor": 5
}
